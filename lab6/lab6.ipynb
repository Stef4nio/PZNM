{
  "nbformat": 4,
  "nbformat_minor": 0,
  "metadata": {
    "colab": {
      "provenance": []
    },
    "kernelspec": {
      "name": "python3",
      "display_name": "Python 3"
    },
    "accelerator": "GPU"
  },
  "cells": [
    {
      "cell_type": "code",
      "metadata": {
        "id": "qrfd6FzSLrE2"
      },
      "source": [
        "from tensorflow.keras.datasets import fashion_mnist\n",
        "from tensorflow.keras.models import Sequential\n",
        "from tensorflow.keras.layers import Dense, Dropout\n",
        "from tensorflow.keras import utils\n",
        "from tensorflow.keras.preprocessing import image\n",
        "from google.colab import files\n",
        "import numpy as np\n",
        "import matplotlib.pyplot as plt\n",
        "from PIL import Image\n",
        "%matplotlib inline\n",
        "import random"
      ],
      "execution_count": null,
      "outputs": []
    },
    {
      "cell_type": "code",
      "metadata": {
        "id": "E5L3LUIi8PDV"
      },
      "source": [
        "(x_train, y_train), (x_test, y_test) = fashion_mnist.load_data()"
      ],
      "execution_count": null,
      "outputs": []
    },
    {
      "cell_type": "code",
      "metadata": {
        "id": "GBAqLKjGJJ-V"
      },
      "source": [
        "x_train = x_train.reshape(60000, 784)\n",
        "x_test = x_test.reshape(10000, 784)"
      ],
      "execution_count": null,
      "outputs": []
    },
    {
      "cell_type": "code",
      "metadata": {
        "id": "rscaAuBNJdq9"
      },
      "source": [
        "x_train = x_train / 255\n",
        "x_test = x_test / 255"
      ],
      "execution_count": null,
      "outputs": []
    },
    {
      "cell_type": "code",
      "metadata": {
        "id": "zQnasUyyJ3cG"
      },
      "source": [
        "y_train = utils.to_categorical(y_train, 10)"
      ],
      "execution_count": null,
      "outputs": []
    },
    {
      "cell_type": "code",
      "metadata": {
        "id": "F2mEQ0i8sWEC"
      },
      "source": [
        "y_test = utils.to_categorical(y_test, 10)"
      ],
      "execution_count": null,
      "outputs": []
    },
    {
      "cell_type": "markdown",
      "metadata": {
        "id": "cKoVsh6Nz446"
      },
      "source": [
        "**Завдання**"
      ]
    },
    {
      "cell_type": "markdown",
      "metadata": {
        "id": "oirpdCwiz9Eo"
      },
      "source": [
        "1. Використайте різну кількість нейронів на вхідному шарі: 400, 600, 800, 1200. Аргументуйте відповідь."
      ]
    },
    {
      "cell_type": "code",
      "metadata": {
        "id": "hOHLw2V70EeM"
      },
      "source": [
        "def create(number_of_neurons):\n",
        "  model = Sequential()\n",
        "  model.add(Dense(number_of_neurons, input_dim=784, activation='elu'))\n",
        "  model.add(Dense(784, activation='elu'))\n",
        "  model.add(Dense(10, activation=\"softmax\"))\n",
        "  model.compile(loss=\"categorical_crossentropy\", optimizer=\"SGD\", metrics=[\"accuracy\"])\n",
        "  return model\n",
        "\n",
        "def learn(model):\n",
        "  history = model.fit(x_train, y_train,\n",
        "                    batch_size=200,\n",
        "                    epochs=20,\n",
        "                    validation_split=0.2,\n",
        "                    verbose=1)\n",
        "  return model"
      ],
      "execution_count": null,
      "outputs": []
    },
    {
      "cell_type": "code",
      "metadata": {
        "colab": {
          "base_uri": "https://localhost:8080/"
        },
        "id": "Qgc_x91o0vZl",
        "outputId": "8807d73f-815e-40f6-9143-75f4b5bc0830"
      },
      "source": [
        "model_400 = learn(create(400))"
      ],
      "execution_count": null,
      "outputs": [
        {
          "output_type": "stream",
          "name": "stdout",
          "text": [
            "Epoch 1/20\n",
            "240/240 [==============================] - 1s 4ms/step - loss: 1.0795 - accuracy: 0.6687 - val_loss: 0.7488 - val_accuracy: 0.7580\n",
            "Epoch 2/20\n",
            "240/240 [==============================] - 1s 3ms/step - loss: 0.6801 - accuracy: 0.7787 - val_loss: 0.6224 - val_accuracy: 0.7958\n",
            "Epoch 3/20\n",
            "240/240 [==============================] - 1s 4ms/step - loss: 0.5950 - accuracy: 0.8054 - val_loss: 0.5677 - val_accuracy: 0.8093\n",
            "Epoch 4/20\n",
            "240/240 [==============================] - 1s 3ms/step - loss: 0.5505 - accuracy: 0.8168 - val_loss: 0.5396 - val_accuracy: 0.8138\n",
            "Epoch 5/20\n",
            "240/240 [==============================] - 1s 3ms/step - loss: 0.5224 - accuracy: 0.8253 - val_loss: 0.5150 - val_accuracy: 0.8227\n",
            "Epoch 6/20\n",
            "240/240 [==============================] - 1s 3ms/step - loss: 0.5028 - accuracy: 0.8296 - val_loss: 0.5024 - val_accuracy: 0.8278\n",
            "Epoch 7/20\n",
            "240/240 [==============================] - 1s 3ms/step - loss: 0.4877 - accuracy: 0.8327 - val_loss: 0.4882 - val_accuracy: 0.8306\n",
            "Epoch 8/20\n",
            "240/240 [==============================] - 1s 3ms/step - loss: 0.4766 - accuracy: 0.8366 - val_loss: 0.4787 - val_accuracy: 0.8321\n",
            "Epoch 9/20\n",
            "240/240 [==============================] - 1s 3ms/step - loss: 0.4671 - accuracy: 0.8390 - val_loss: 0.4757 - val_accuracy: 0.8317\n",
            "Epoch 10/20\n",
            "240/240 [==============================] - 1s 3ms/step - loss: 0.4592 - accuracy: 0.8411 - val_loss: 0.4651 - val_accuracy: 0.8347\n",
            "Epoch 11/20\n",
            "240/240 [==============================] - 1s 3ms/step - loss: 0.4531 - accuracy: 0.8433 - val_loss: 0.4580 - val_accuracy: 0.8391\n",
            "Epoch 12/20\n",
            "240/240 [==============================] - 1s 3ms/step - loss: 0.4470 - accuracy: 0.8450 - val_loss: 0.4523 - val_accuracy: 0.8406\n",
            "Epoch 13/20\n",
            "240/240 [==============================] - 1s 3ms/step - loss: 0.4413 - accuracy: 0.8468 - val_loss: 0.4472 - val_accuracy: 0.8425\n",
            "Epoch 14/20\n",
            "240/240 [==============================] - 1s 3ms/step - loss: 0.4372 - accuracy: 0.8486 - val_loss: 0.4451 - val_accuracy: 0.8438\n",
            "Epoch 15/20\n",
            "240/240 [==============================] - 1s 3ms/step - loss: 0.4332 - accuracy: 0.8493 - val_loss: 0.4408 - val_accuracy: 0.8432\n",
            "Epoch 16/20\n",
            "240/240 [==============================] - 1s 3ms/step - loss: 0.4295 - accuracy: 0.8512 - val_loss: 0.4431 - val_accuracy: 0.8428\n",
            "Epoch 17/20\n",
            "240/240 [==============================] - 1s 3ms/step - loss: 0.4257 - accuracy: 0.8523 - val_loss: 0.4366 - val_accuracy: 0.8468\n",
            "Epoch 18/20\n",
            "240/240 [==============================] - 1s 3ms/step - loss: 0.4231 - accuracy: 0.8534 - val_loss: 0.4334 - val_accuracy: 0.8464\n",
            "Epoch 19/20\n",
            "240/240 [==============================] - 1s 4ms/step - loss: 0.4197 - accuracy: 0.8554 - val_loss: 0.4323 - val_accuracy: 0.8472\n",
            "Epoch 20/20\n",
            "240/240 [==============================] - 1s 3ms/step - loss: 0.4165 - accuracy: 0.8558 - val_loss: 0.4301 - val_accuracy: 0.8475\n"
          ]
        }
      ]
    },
    {
      "cell_type": "code",
      "metadata": {
        "colab": {
          "base_uri": "https://localhost:8080/"
        },
        "id": "uU4VsFSX1GRr",
        "outputId": "d3ccc896-f852-417a-9f51-92dadce23e61"
      },
      "source": [
        "model_600 = learn(create(600))"
      ],
      "execution_count": null,
      "outputs": [
        {
          "output_type": "stream",
          "name": "stdout",
          "text": [
            "Epoch 1/20\n",
            "240/240 [==============================] - 1s 4ms/step - loss: 1.0255 - accuracy: 0.6809 - val_loss: 0.7185 - val_accuracy: 0.7628\n",
            "Epoch 2/20\n",
            "240/240 [==============================] - 1s 4ms/step - loss: 0.6619 - accuracy: 0.7828 - val_loss: 0.6116 - val_accuracy: 0.7972\n",
            "Epoch 3/20\n",
            "240/240 [==============================] - 1s 4ms/step - loss: 0.5840 - accuracy: 0.8059 - val_loss: 0.5605 - val_accuracy: 0.8110\n",
            "Epoch 4/20\n",
            "240/240 [==============================] - 1s 3ms/step - loss: 0.5435 - accuracy: 0.8184 - val_loss: 0.5300 - val_accuracy: 0.8178\n",
            "Epoch 5/20\n",
            "240/240 [==============================] - 1s 4ms/step - loss: 0.5174 - accuracy: 0.8257 - val_loss: 0.5110 - val_accuracy: 0.8234\n",
            "Epoch 6/20\n",
            "240/240 [==============================] - 1s 3ms/step - loss: 0.4985 - accuracy: 0.8299 - val_loss: 0.4953 - val_accuracy: 0.8258\n",
            "Epoch 7/20\n",
            "240/240 [==============================] - 1s 3ms/step - loss: 0.4847 - accuracy: 0.8339 - val_loss: 0.4861 - val_accuracy: 0.8286\n",
            "Epoch 8/20\n",
            "240/240 [==============================] - 1s 4ms/step - loss: 0.4740 - accuracy: 0.8369 - val_loss: 0.4764 - val_accuracy: 0.8323\n",
            "Epoch 9/20\n",
            "240/240 [==============================] - 1s 4ms/step - loss: 0.4647 - accuracy: 0.8400 - val_loss: 0.4679 - val_accuracy: 0.8342\n",
            "Epoch 10/20\n",
            "240/240 [==============================] - 1s 3ms/step - loss: 0.4570 - accuracy: 0.8425 - val_loss: 0.4619 - val_accuracy: 0.8363\n",
            "Epoch 11/20\n",
            "240/240 [==============================] - 1s 3ms/step - loss: 0.4505 - accuracy: 0.8435 - val_loss: 0.4575 - val_accuracy: 0.8381\n",
            "Epoch 12/20\n",
            "240/240 [==============================] - 1s 3ms/step - loss: 0.4447 - accuracy: 0.8462 - val_loss: 0.4513 - val_accuracy: 0.8413\n",
            "Epoch 13/20\n",
            "240/240 [==============================] - 1s 4ms/step - loss: 0.4398 - accuracy: 0.8469 - val_loss: 0.4539 - val_accuracy: 0.8365\n",
            "Epoch 14/20\n",
            "240/240 [==============================] - 1s 3ms/step - loss: 0.4349 - accuracy: 0.8487 - val_loss: 0.4427 - val_accuracy: 0.8435\n",
            "Epoch 15/20\n",
            "240/240 [==============================] - 1s 4ms/step - loss: 0.4311 - accuracy: 0.8504 - val_loss: 0.4419 - val_accuracy: 0.8427\n",
            "Epoch 16/20\n",
            "240/240 [==============================] - 1s 4ms/step - loss: 0.4270 - accuracy: 0.8518 - val_loss: 0.4405 - val_accuracy: 0.8429\n",
            "Epoch 17/20\n",
            "240/240 [==============================] - 1s 4ms/step - loss: 0.4238 - accuracy: 0.8520 - val_loss: 0.4324 - val_accuracy: 0.8486\n",
            "Epoch 18/20\n",
            "240/240 [==============================] - 1s 4ms/step - loss: 0.4202 - accuracy: 0.8540 - val_loss: 0.4346 - val_accuracy: 0.8453\n",
            "Epoch 19/20\n",
            "240/240 [==============================] - 1s 4ms/step - loss: 0.4173 - accuracy: 0.8546 - val_loss: 0.4321 - val_accuracy: 0.8487\n",
            "Epoch 20/20\n",
            "240/240 [==============================] - 1s 4ms/step - loss: 0.4148 - accuracy: 0.8555 - val_loss: 0.4364 - val_accuracy: 0.8451\n"
          ]
        }
      ]
    },
    {
      "cell_type": "code",
      "metadata": {
        "colab": {
          "base_uri": "https://localhost:8080/"
        },
        "id": "bXYbKQNM1Jhy",
        "outputId": "f644481c-ce4b-4e7a-ad17-e4f087017b79"
      },
      "source": [
        "model_800 = learn(create(800))"
      ],
      "execution_count": null,
      "outputs": [
        {
          "output_type": "stream",
          "name": "stdout",
          "text": [
            "Epoch 1/20\n",
            "240/240 [==============================] - 1s 5ms/step - loss: 0.9834 - accuracy: 0.6953 - val_loss: 0.6984 - val_accuracy: 0.7732\n",
            "Epoch 2/20\n",
            "240/240 [==============================] - 1s 4ms/step - loss: 0.6476 - accuracy: 0.7896 - val_loss: 0.5978 - val_accuracy: 0.8037\n",
            "Epoch 3/20\n",
            "240/240 [==============================] - 1s 4ms/step - loss: 0.5749 - accuracy: 0.8097 - val_loss: 0.5500 - val_accuracy: 0.8162\n",
            "Epoch 4/20\n",
            "240/240 [==============================] - 1s 4ms/step - loss: 0.5363 - accuracy: 0.8216 - val_loss: 0.5223 - val_accuracy: 0.8202\n",
            "Epoch 5/20\n",
            "240/240 [==============================] - 1s 4ms/step - loss: 0.5114 - accuracy: 0.8274 - val_loss: 0.5030 - val_accuracy: 0.8240\n",
            "Epoch 6/20\n",
            "240/240 [==============================] - 1s 4ms/step - loss: 0.4938 - accuracy: 0.8327 - val_loss: 0.4901 - val_accuracy: 0.8286\n",
            "Epoch 7/20\n",
            "240/240 [==============================] - 1s 4ms/step - loss: 0.4799 - accuracy: 0.8365 - val_loss: 0.4774 - val_accuracy: 0.8307\n",
            "Epoch 8/20\n",
            "240/240 [==============================] - 1s 4ms/step - loss: 0.4696 - accuracy: 0.8396 - val_loss: 0.4695 - val_accuracy: 0.8329\n",
            "Epoch 9/20\n",
            "240/240 [==============================] - 1s 4ms/step - loss: 0.4602 - accuracy: 0.8418 - val_loss: 0.4607 - val_accuracy: 0.8372\n",
            "Epoch 10/20\n",
            "240/240 [==============================] - 1s 4ms/step - loss: 0.4535 - accuracy: 0.8440 - val_loss: 0.4575 - val_accuracy: 0.8384\n",
            "Epoch 11/20\n",
            "240/240 [==============================] - 1s 4ms/step - loss: 0.4471 - accuracy: 0.8458 - val_loss: 0.4513 - val_accuracy: 0.8418\n",
            "Epoch 12/20\n",
            "240/240 [==============================] - 1s 4ms/step - loss: 0.4409 - accuracy: 0.8478 - val_loss: 0.4454 - val_accuracy: 0.8443\n",
            "Epoch 13/20\n",
            "240/240 [==============================] - 1s 4ms/step - loss: 0.4361 - accuracy: 0.8487 - val_loss: 0.4406 - val_accuracy: 0.8443\n",
            "Epoch 14/20\n",
            "240/240 [==============================] - 1s 4ms/step - loss: 0.4315 - accuracy: 0.8500 - val_loss: 0.4388 - val_accuracy: 0.8443\n",
            "Epoch 15/20\n",
            "240/240 [==============================] - 1s 4ms/step - loss: 0.4280 - accuracy: 0.8519 - val_loss: 0.4342 - val_accuracy: 0.8477\n",
            "Epoch 16/20\n",
            "240/240 [==============================] - 1s 4ms/step - loss: 0.4241 - accuracy: 0.8520 - val_loss: 0.4384 - val_accuracy: 0.8433\n",
            "Epoch 17/20\n",
            "240/240 [==============================] - 1s 4ms/step - loss: 0.4200 - accuracy: 0.8532 - val_loss: 0.4298 - val_accuracy: 0.8481\n",
            "Epoch 18/20\n",
            "240/240 [==============================] - 1s 4ms/step - loss: 0.4182 - accuracy: 0.8542 - val_loss: 0.4280 - val_accuracy: 0.8481\n",
            "Epoch 19/20\n",
            "240/240 [==============================] - 1s 4ms/step - loss: 0.4141 - accuracy: 0.8561 - val_loss: 0.4236 - val_accuracy: 0.8505\n",
            "Epoch 20/20\n",
            "240/240 [==============================] - 1s 4ms/step - loss: 0.4116 - accuracy: 0.8565 - val_loss: 0.4255 - val_accuracy: 0.8501\n"
          ]
        }
      ]
    },
    {
      "cell_type": "code",
      "metadata": {
        "colab": {
          "base_uri": "https://localhost:8080/"
        },
        "id": "CrzgiQAc1LZu",
        "outputId": "b6471428-6350-4e6e-b298-3b5a88ada5d5"
      },
      "source": [
        "model_1200 = learn(create(1200))"
      ],
      "execution_count": null,
      "outputs": [
        {
          "output_type": "stream",
          "name": "stdout",
          "text": [
            "Epoch 1/20\n",
            "240/240 [==============================] - 1s 5ms/step - loss: 0.9437 - accuracy: 0.7049 - val_loss: 0.6812 - val_accuracy: 0.7785\n",
            "Epoch 2/20\n",
            "240/240 [==============================] - 1s 4ms/step - loss: 0.6274 - accuracy: 0.7963 - val_loss: 0.5812 - val_accuracy: 0.8054\n",
            "Epoch 3/20\n",
            "240/240 [==============================] - 1s 4ms/step - loss: 0.5592 - accuracy: 0.8155 - val_loss: 0.5399 - val_accuracy: 0.8135\n",
            "Epoch 4/20\n",
            "240/240 [==============================] - 1s 4ms/step - loss: 0.5228 - accuracy: 0.8242 - val_loss: 0.5145 - val_accuracy: 0.8203\n",
            "Epoch 5/20\n",
            "240/240 [==============================] - 1s 4ms/step - loss: 0.4992 - accuracy: 0.8317 - val_loss: 0.4949 - val_accuracy: 0.8267\n",
            "Epoch 6/20\n",
            "240/240 [==============================] - 1s 4ms/step - loss: 0.4833 - accuracy: 0.8358 - val_loss: 0.4894 - val_accuracy: 0.8304\n",
            "Epoch 7/20\n",
            "240/240 [==============================] - 1s 4ms/step - loss: 0.4711 - accuracy: 0.8388 - val_loss: 0.4729 - val_accuracy: 0.8336\n",
            "Epoch 8/20\n",
            "240/240 [==============================] - 1s 4ms/step - loss: 0.4614 - accuracy: 0.8426 - val_loss: 0.4647 - val_accuracy: 0.8364\n",
            "Epoch 9/20\n",
            "240/240 [==============================] - 1s 4ms/step - loss: 0.4529 - accuracy: 0.8447 - val_loss: 0.4572 - val_accuracy: 0.8398\n",
            "Epoch 10/20\n",
            "240/240 [==============================] - 1s 4ms/step - loss: 0.4466 - accuracy: 0.8470 - val_loss: 0.4516 - val_accuracy: 0.8424\n",
            "Epoch 11/20\n",
            "240/240 [==============================] - 1s 4ms/step - loss: 0.4410 - accuracy: 0.8477 - val_loss: 0.4489 - val_accuracy: 0.8405\n",
            "Epoch 12/20\n",
            "240/240 [==============================] - 1s 4ms/step - loss: 0.4354 - accuracy: 0.8491 - val_loss: 0.4452 - val_accuracy: 0.8442\n",
            "Epoch 13/20\n",
            "240/240 [==============================] - 1s 4ms/step - loss: 0.4313 - accuracy: 0.8510 - val_loss: 0.4460 - val_accuracy: 0.8413\n",
            "Epoch 14/20\n",
            "240/240 [==============================] - 1s 4ms/step - loss: 0.4268 - accuracy: 0.8515 - val_loss: 0.4365 - val_accuracy: 0.8482\n",
            "Epoch 15/20\n",
            "240/240 [==============================] - 1s 4ms/step - loss: 0.4226 - accuracy: 0.8532 - val_loss: 0.4374 - val_accuracy: 0.8463\n",
            "Epoch 16/20\n",
            "240/240 [==============================] - 1s 4ms/step - loss: 0.4196 - accuracy: 0.8538 - val_loss: 0.4325 - val_accuracy: 0.8480\n",
            "Epoch 17/20\n",
            "240/240 [==============================] - 1s 4ms/step - loss: 0.4162 - accuracy: 0.8549 - val_loss: 0.4333 - val_accuracy: 0.8482\n",
            "Epoch 18/20\n",
            "240/240 [==============================] - 1s 4ms/step - loss: 0.4140 - accuracy: 0.8564 - val_loss: 0.4268 - val_accuracy: 0.8491\n",
            "Epoch 19/20\n",
            "240/240 [==============================] - 1s 4ms/step - loss: 0.4102 - accuracy: 0.8574 - val_loss: 0.4311 - val_accuracy: 0.8506\n",
            "Epoch 20/20\n",
            "240/240 [==============================] - 1s 4ms/step - loss: 0.4081 - accuracy: 0.8596 - val_loss: 0.4199 - val_accuracy: 0.8518\n"
          ]
        }
      ]
    },
    {
      "cell_type": "code",
      "metadata": {
        "colab": {
          "base_uri": "https://localhost:8080/"
        },
        "id": "WeGLZgba1rmh",
        "outputId": "e7def612-4621-4a5c-d3b5-59b8f283c34e"
      },
      "source": [
        "model_400.evaluate(x_test, y_test, verbose=1)\n",
        "model_600.evaluate(x_test, y_test, verbose=1)\n",
        "model_800.evaluate(x_test, y_test, verbose=1)\n",
        "model_1200.evaluate(x_test, y_test, verbose=1)"
      ],
      "execution_count": null,
      "outputs": [
        {
          "output_type": "stream",
          "name": "stdout",
          "text": [
            "313/313 [==============================] - 1s 2ms/step - loss: 0.4564 - accuracy: 0.8395\n",
            "313/313 [==============================] - 1s 2ms/step - loss: 0.4599 - accuracy: 0.8338\n",
            "313/313 [==============================] - 1s 2ms/step - loss: 0.4522 - accuracy: 0.8391\n",
            "313/313 [==============================] - 1s 2ms/step - loss: 0.4442 - accuracy: 0.8433\n"
          ]
        },
        {
          "output_type": "execute_result",
          "data": {
            "text/plain": [
              "[0.44424107670783997, 0.8432999849319458]"
            ]
          },
          "metadata": {},
          "execution_count": 97
        }
      ]
    },
    {
      "cell_type": "markdown",
      "metadata": {
        "id": "xyL0FXrM6LbK"
      },
      "source": [
        "Точність +- однакова"
      ]
    },
    {
      "cell_type": "markdown",
      "metadata": {
        "id": "5k_lI2Dx1Xyn"
      },
      "source": [
        "2. Додайте в нейронну мережу прихований шар з різною кількістю\n",
        "нейронів: 200, 300, 400, 600, 800. Аргументуйте відповідь."
      ]
    },
    {
      "cell_type": "code",
      "metadata": {
        "id": "sePJGmPJ6pup"
      },
      "source": [
        "def create_with_hidden_layer(number_of_neurons_in_hidden):\n",
        "  model = Sequential()\n",
        "  model.add(Dense(600, input_dim=784, activation='elu'))\n",
        "  model.add(Dense(784, activation='elu'))\n",
        "  model.add(Dense(number_of_neurons_in_hidden, activation='elu'))\n",
        "  model.add(Dense(10, activation=\"softmax\"))\n",
        "  model.compile(loss=\"categorical_crossentropy\", optimizer=\"SGD\", metrics=[\"accuracy\"])\n",
        "  return model"
      ],
      "execution_count": null,
      "outputs": []
    },
    {
      "cell_type": "code",
      "metadata": {
        "colab": {
          "base_uri": "https://localhost:8080/"
        },
        "id": "TCgF_f9h7O8K",
        "outputId": "7303c707-63bc-4f3c-af71-b77f2e2e802d"
      },
      "source": [
        "model_with_hidden_200 = learn(create_with_hidden_layer(200))"
      ],
      "execution_count": null,
      "outputs": [
        {
          "output_type": "stream",
          "name": "stdout",
          "text": [
            "Epoch 1/20\n",
            "240/240 [==============================] - 1s 4ms/step - loss: 1.2394 - accuracy: 0.6294 - val_loss: 0.8210 - val_accuracy: 0.7432\n",
            "Epoch 2/20\n",
            "240/240 [==============================] - 1s 3ms/step - loss: 0.7373 - accuracy: 0.7617 - val_loss: 0.6581 - val_accuracy: 0.7836\n",
            "Epoch 3/20\n",
            "240/240 [==============================] - 1s 3ms/step - loss: 0.6293 - accuracy: 0.7943 - val_loss: 0.5935 - val_accuracy: 0.8027\n",
            "Epoch 4/20\n",
            "240/240 [==============================] - 1s 3ms/step - loss: 0.5736 - accuracy: 0.8109 - val_loss: 0.5491 - val_accuracy: 0.8180\n",
            "Epoch 5/20\n",
            "240/240 [==============================] - 1s 3ms/step - loss: 0.5388 - accuracy: 0.8203 - val_loss: 0.5286 - val_accuracy: 0.8185\n",
            "Epoch 6/20\n",
            "240/240 [==============================] - 1s 3ms/step - loss: 0.5153 - accuracy: 0.8259 - val_loss: 0.5038 - val_accuracy: 0.8242\n",
            "Epoch 7/20\n",
            "240/240 [==============================] - 1s 3ms/step - loss: 0.4970 - accuracy: 0.8309 - val_loss: 0.4923 - val_accuracy: 0.8297\n",
            "Epoch 8/20\n",
            "240/240 [==============================] - 1s 3ms/step - loss: 0.4816 - accuracy: 0.8350 - val_loss: 0.4753 - val_accuracy: 0.8357\n",
            "Epoch 9/20\n",
            "240/240 [==============================] - 1s 3ms/step - loss: 0.4703 - accuracy: 0.8382 - val_loss: 0.4700 - val_accuracy: 0.8353\n",
            "Epoch 10/20\n",
            "240/240 [==============================] - 1s 3ms/step - loss: 0.4596 - accuracy: 0.8417 - val_loss: 0.4595 - val_accuracy: 0.8398\n",
            "Epoch 11/20\n",
            "240/240 [==============================] - 1s 3ms/step - loss: 0.4506 - accuracy: 0.8446 - val_loss: 0.4501 - val_accuracy: 0.8428\n",
            "Epoch 12/20\n",
            "240/240 [==============================] - 1s 3ms/step - loss: 0.4439 - accuracy: 0.8459 - val_loss: 0.4435 - val_accuracy: 0.8443\n",
            "Epoch 13/20\n",
            "240/240 [==============================] - 1s 3ms/step - loss: 0.4360 - accuracy: 0.8494 - val_loss: 0.4413 - val_accuracy: 0.8453\n",
            "Epoch 14/20\n",
            "240/240 [==============================] - 1s 3ms/step - loss: 0.4300 - accuracy: 0.8514 - val_loss: 0.4360 - val_accuracy: 0.8487\n",
            "Epoch 15/20\n",
            "240/240 [==============================] - 1s 3ms/step - loss: 0.4243 - accuracy: 0.8530 - val_loss: 0.4305 - val_accuracy: 0.8479\n",
            "Epoch 16/20\n",
            "240/240 [==============================] - 1s 3ms/step - loss: 0.4192 - accuracy: 0.8555 - val_loss: 0.4286 - val_accuracy: 0.8505\n",
            "Epoch 17/20\n",
            "240/240 [==============================] - 1s 3ms/step - loss: 0.4142 - accuracy: 0.8576 - val_loss: 0.4201 - val_accuracy: 0.8525\n",
            "Epoch 18/20\n",
            "240/240 [==============================] - 1s 3ms/step - loss: 0.4109 - accuracy: 0.8568 - val_loss: 0.4244 - val_accuracy: 0.8496\n",
            "Epoch 19/20\n",
            "240/240 [==============================] - 1s 3ms/step - loss: 0.4057 - accuracy: 0.8592 - val_loss: 0.4198 - val_accuracy: 0.8519\n",
            "Epoch 20/20\n",
            "240/240 [==============================] - 1s 3ms/step - loss: 0.4017 - accuracy: 0.8608 - val_loss: 0.4118 - val_accuracy: 0.8561\n"
          ]
        }
      ]
    },
    {
      "cell_type": "code",
      "metadata": {
        "colab": {
          "base_uri": "https://localhost:8080/"
        },
        "id": "gwgbM1LS7WTb",
        "outputId": "7276e143-c618-4df7-cc99-81bf4b11da01"
      },
      "source": [
        "model_with_hidden_400 = learn(create_with_hidden_layer(400))"
      ],
      "execution_count": null,
      "outputs": [
        {
          "output_type": "stream",
          "name": "stdout",
          "text": [
            "Epoch 1/20\n",
            "240/240 [==============================] - 2s 6ms/step - loss: 1.2124 - accuracy: 0.6429 - val_loss: 0.8150 - val_accuracy: 0.7387\n",
            "Epoch 2/20\n",
            "240/240 [==============================] - 1s 3ms/step - loss: 0.7369 - accuracy: 0.7601 - val_loss: 0.6660 - val_accuracy: 0.7756\n",
            "Epoch 3/20\n",
            "240/240 [==============================] - 1s 3ms/step - loss: 0.6326 - accuracy: 0.7933 - val_loss: 0.6047 - val_accuracy: 0.7998\n",
            "Epoch 4/20\n",
            "240/240 [==============================] - 1s 3ms/step - loss: 0.5776 - accuracy: 0.8108 - val_loss: 0.5596 - val_accuracy: 0.8123\n",
            "Epoch 5/20\n",
            "240/240 [==============================] - 1s 3ms/step - loss: 0.5420 - accuracy: 0.8206 - val_loss: 0.5335 - val_accuracy: 0.8183\n",
            "Epoch 6/20\n",
            "240/240 [==============================] - 1s 3ms/step - loss: 0.5171 - accuracy: 0.8284 - val_loss: 0.5112 - val_accuracy: 0.8256\n",
            "Epoch 7/20\n",
            "240/240 [==============================] - 1s 4ms/step - loss: 0.4983 - accuracy: 0.8321 - val_loss: 0.4996 - val_accuracy: 0.8269\n",
            "Epoch 8/20\n",
            "240/240 [==============================] - 1s 3ms/step - loss: 0.4820 - accuracy: 0.8368 - val_loss: 0.4865 - val_accuracy: 0.8308\n",
            "Epoch 9/20\n",
            "240/240 [==============================] - 1s 3ms/step - loss: 0.4703 - accuracy: 0.8415 - val_loss: 0.4736 - val_accuracy: 0.8351\n",
            "Epoch 10/20\n",
            "240/240 [==============================] - 1s 3ms/step - loss: 0.4603 - accuracy: 0.8434 - val_loss: 0.4710 - val_accuracy: 0.8345\n",
            "Epoch 11/20\n",
            "240/240 [==============================] - 1s 3ms/step - loss: 0.4512 - accuracy: 0.8466 - val_loss: 0.4558 - val_accuracy: 0.8403\n",
            "Epoch 12/20\n",
            "240/240 [==============================] - 1s 3ms/step - loss: 0.4435 - accuracy: 0.8479 - val_loss: 0.4489 - val_accuracy: 0.8447\n",
            "Epoch 13/20\n",
            "240/240 [==============================] - 1s 3ms/step - loss: 0.4355 - accuracy: 0.8514 - val_loss: 0.4489 - val_accuracy: 0.8436\n",
            "Epoch 14/20\n",
            "240/240 [==============================] - 1s 3ms/step - loss: 0.4303 - accuracy: 0.8528 - val_loss: 0.4379 - val_accuracy: 0.8483\n",
            "Epoch 15/20\n",
            "240/240 [==============================] - 1s 3ms/step - loss: 0.4244 - accuracy: 0.8534 - val_loss: 0.4294 - val_accuracy: 0.8518\n",
            "Epoch 16/20\n",
            "240/240 [==============================] - 1s 3ms/step - loss: 0.4183 - accuracy: 0.8565 - val_loss: 0.4328 - val_accuracy: 0.8495\n",
            "Epoch 17/20\n",
            "240/240 [==============================] - 1s 3ms/step - loss: 0.4141 - accuracy: 0.8587 - val_loss: 0.4328 - val_accuracy: 0.8498\n",
            "Epoch 18/20\n",
            "240/240 [==============================] - 1s 3ms/step - loss: 0.4095 - accuracy: 0.8593 - val_loss: 0.4581 - val_accuracy: 0.8421\n",
            "Epoch 19/20\n",
            "240/240 [==============================] - 1s 3ms/step - loss: 0.4050 - accuracy: 0.8610 - val_loss: 0.4147 - val_accuracy: 0.8562\n",
            "Epoch 20/20\n",
            "240/240 [==============================] - 1s 3ms/step - loss: 0.4010 - accuracy: 0.8629 - val_loss: 0.4125 - val_accuracy: 0.8587\n"
          ]
        }
      ]
    },
    {
      "cell_type": "code",
      "metadata": {
        "colab": {
          "base_uri": "https://localhost:8080/"
        },
        "id": "73ja3gpy7XhN",
        "outputId": "2b429b78-4d29-4710-9db8-bd478647b6d5"
      },
      "source": [
        "model_with_hidden_600 = learn(create_with_hidden_layer(600))"
      ],
      "execution_count": null,
      "outputs": [
        {
          "output_type": "stream",
          "name": "stdout",
          "text": [
            "Epoch 1/20\n",
            "240/240 [==============================] - 1s 4ms/step - loss: 1.2268 - accuracy: 0.6460 - val_loss: 0.8304 - val_accuracy: 0.7255\n",
            "Epoch 2/20\n",
            "240/240 [==============================] - 1s 4ms/step - loss: 0.7474 - accuracy: 0.7564 - val_loss: 0.6766 - val_accuracy: 0.7768\n",
            "Epoch 3/20\n",
            "240/240 [==============================] - 1s 3ms/step - loss: 0.6413 - accuracy: 0.7926 - val_loss: 0.6035 - val_accuracy: 0.8021\n",
            "Epoch 4/20\n",
            "240/240 [==============================] - 1s 3ms/step - loss: 0.5842 - accuracy: 0.8091 - val_loss: 0.5707 - val_accuracy: 0.8092\n",
            "Epoch 5/20\n",
            "240/240 [==============================] - 1s 4ms/step - loss: 0.5469 - accuracy: 0.8184 - val_loss: 0.5377 - val_accuracy: 0.8214\n",
            "Epoch 6/20\n",
            "240/240 [==============================] - 1s 3ms/step - loss: 0.5209 - accuracy: 0.8255 - val_loss: 0.5214 - val_accuracy: 0.8191\n",
            "Epoch 7/20\n",
            "240/240 [==============================] - 1s 4ms/step - loss: 0.5006 - accuracy: 0.8313 - val_loss: 0.4963 - val_accuracy: 0.8300\n",
            "Epoch 8/20\n",
            "240/240 [==============================] - 1s 3ms/step - loss: 0.4856 - accuracy: 0.8347 - val_loss: 0.4888 - val_accuracy: 0.8280\n",
            "Epoch 9/20\n",
            "240/240 [==============================] - 1s 3ms/step - loss: 0.4736 - accuracy: 0.8382 - val_loss: 0.4763 - val_accuracy: 0.8362\n",
            "Epoch 10/20\n",
            "240/240 [==============================] - 1s 3ms/step - loss: 0.4633 - accuracy: 0.8410 - val_loss: 0.4714 - val_accuracy: 0.8393\n",
            "Epoch 11/20\n",
            "240/240 [==============================] - 1s 3ms/step - loss: 0.4544 - accuracy: 0.8451 - val_loss: 0.4574 - val_accuracy: 0.8407\n",
            "Epoch 12/20\n",
            "240/240 [==============================] - 1s 4ms/step - loss: 0.4464 - accuracy: 0.8462 - val_loss: 0.4590 - val_accuracy: 0.8394\n",
            "Epoch 13/20\n",
            "240/240 [==============================] - 1s 3ms/step - loss: 0.4395 - accuracy: 0.8498 - val_loss: 0.4510 - val_accuracy: 0.8443\n",
            "Epoch 14/20\n",
            "240/240 [==============================] - 1s 3ms/step - loss: 0.4324 - accuracy: 0.8514 - val_loss: 0.4385 - val_accuracy: 0.8482\n",
            "Epoch 15/20\n",
            "240/240 [==============================] - 1s 4ms/step - loss: 0.4274 - accuracy: 0.8527 - val_loss: 0.4335 - val_accuracy: 0.8496\n",
            "Epoch 16/20\n",
            "240/240 [==============================] - 1s 3ms/step - loss: 0.4219 - accuracy: 0.8557 - val_loss: 0.4297 - val_accuracy: 0.8513\n",
            "Epoch 17/20\n",
            "240/240 [==============================] - 1s 3ms/step - loss: 0.4172 - accuracy: 0.8567 - val_loss: 0.4357 - val_accuracy: 0.8464\n",
            "Epoch 18/20\n",
            "240/240 [==============================] - 1s 4ms/step - loss: 0.4127 - accuracy: 0.8582 - val_loss: 0.4219 - val_accuracy: 0.8535\n",
            "Epoch 19/20\n",
            "240/240 [==============================] - 1s 3ms/step - loss: 0.4083 - accuracy: 0.8592 - val_loss: 0.4184 - val_accuracy: 0.8571\n",
            "Epoch 20/20\n",
            "240/240 [==============================] - 1s 3ms/step - loss: 0.4033 - accuracy: 0.8615 - val_loss: 0.4144 - val_accuracy: 0.8567\n"
          ]
        }
      ]
    },
    {
      "cell_type": "code",
      "metadata": {
        "colab": {
          "base_uri": "https://localhost:8080/"
        },
        "id": "iTVJd-4e7YDa",
        "outputId": "f4d266cc-56ea-4bc9-8d01-847963f82d01"
      },
      "source": [
        "model_with_hidden_800 = learn(create_with_hidden_layer(800))"
      ],
      "execution_count": null,
      "outputs": [
        {
          "output_type": "stream",
          "name": "stdout",
          "text": [
            "Epoch 1/20\n",
            "240/240 [==============================] - 1s 4ms/step - loss: 1.2201 - accuracy: 0.6550 - val_loss: 0.8084 - val_accuracy: 0.7502\n",
            "Epoch 2/20\n",
            "240/240 [==============================] - 1s 3ms/step - loss: 0.7245 - accuracy: 0.7686 - val_loss: 0.6573 - val_accuracy: 0.7814\n",
            "Epoch 3/20\n",
            "240/240 [==============================] - 1s 3ms/step - loss: 0.6205 - accuracy: 0.8008 - val_loss: 0.5893 - val_accuracy: 0.8081\n",
            "Epoch 4/20\n",
            "240/240 [==============================] - 1s 4ms/step - loss: 0.5671 - accuracy: 0.8145 - val_loss: 0.5555 - val_accuracy: 0.8146\n",
            "Epoch 5/20\n",
            "240/240 [==============================] - 1s 4ms/step - loss: 0.5326 - accuracy: 0.8230 - val_loss: 0.5257 - val_accuracy: 0.8220\n",
            "Epoch 6/20\n",
            "240/240 [==============================] - 1s 4ms/step - loss: 0.5095 - accuracy: 0.8303 - val_loss: 0.5101 - val_accuracy: 0.8248\n",
            "Epoch 7/20\n",
            "240/240 [==============================] - 1s 3ms/step - loss: 0.4906 - accuracy: 0.8354 - val_loss: 0.4911 - val_accuracy: 0.8306\n",
            "Epoch 8/20\n",
            "240/240 [==============================] - 1s 3ms/step - loss: 0.4773 - accuracy: 0.8392 - val_loss: 0.4821 - val_accuracy: 0.8338\n",
            "Epoch 9/20\n",
            "240/240 [==============================] - 1s 4ms/step - loss: 0.4658 - accuracy: 0.8411 - val_loss: 0.4785 - val_accuracy: 0.8315\n",
            "Epoch 10/20\n",
            "240/240 [==============================] - 1s 4ms/step - loss: 0.4565 - accuracy: 0.8442 - val_loss: 0.4600 - val_accuracy: 0.8425\n",
            "Epoch 11/20\n",
            "240/240 [==============================] - 1s 4ms/step - loss: 0.4476 - accuracy: 0.8465 - val_loss: 0.4539 - val_accuracy: 0.8447\n",
            "Epoch 12/20\n",
            "240/240 [==============================] - 1s 4ms/step - loss: 0.4399 - accuracy: 0.8494 - val_loss: 0.4457 - val_accuracy: 0.8465\n",
            "Epoch 13/20\n",
            "240/240 [==============================] - 1s 4ms/step - loss: 0.4333 - accuracy: 0.8510 - val_loss: 0.4517 - val_accuracy: 0.8422\n",
            "Epoch 14/20\n",
            "240/240 [==============================] - 1s 3ms/step - loss: 0.4268 - accuracy: 0.8524 - val_loss: 0.4346 - val_accuracy: 0.8521\n",
            "Epoch 15/20\n",
            "240/240 [==============================] - 1s 4ms/step - loss: 0.4214 - accuracy: 0.8549 - val_loss: 0.4393 - val_accuracy: 0.8473\n",
            "Epoch 16/20\n",
            "240/240 [==============================] - 1s 4ms/step - loss: 0.4161 - accuracy: 0.8567 - val_loss: 0.4254 - val_accuracy: 0.8521\n",
            "Epoch 17/20\n",
            "240/240 [==============================] - 1s 3ms/step - loss: 0.4115 - accuracy: 0.8581 - val_loss: 0.4230 - val_accuracy: 0.8547\n",
            "Epoch 18/20\n",
            "240/240 [==============================] - 1s 4ms/step - loss: 0.4079 - accuracy: 0.8586 - val_loss: 0.4188 - val_accuracy: 0.8531\n",
            "Epoch 19/20\n",
            "240/240 [==============================] - 1s 3ms/step - loss: 0.4037 - accuracy: 0.8601 - val_loss: 0.4464 - val_accuracy: 0.8428\n",
            "Epoch 20/20\n",
            "240/240 [==============================] - 1s 4ms/step - loss: 0.3990 - accuracy: 0.8626 - val_loss: 0.4127 - val_accuracy: 0.8577\n"
          ]
        }
      ]
    },
    {
      "cell_type": "code",
      "metadata": {
        "colab": {
          "base_uri": "https://localhost:8080/"
        },
        "id": "vwha-XVr-wMJ",
        "outputId": "6bba1082-31b0-4a34-c5b2-8eed77f4a9a6"
      },
      "source": [
        "model_with_hidden_200.evaluate(x_test, y_test, verbose=1)\n",
        "model_with_hidden_400.evaluate(x_test, y_test, verbose=1)\n",
        "model_with_hidden_600.evaluate(x_test, y_test, verbose=1)\n",
        "model_with_hidden_800.evaluate(x_test, y_test, verbose=1)"
      ],
      "execution_count": null,
      "outputs": [
        {
          "output_type": "stream",
          "name": "stdout",
          "text": [
            "313/313 [==============================] - 1s 2ms/step - loss: 0.4380 - accuracy: 0.8474\n",
            "313/313 [==============================] - 1s 2ms/step - loss: 0.4360 - accuracy: 0.8465\n",
            "313/313 [==============================] - 1s 2ms/step - loss: 0.4383 - accuracy: 0.8471\n",
            "313/313 [==============================] - 1s 2ms/step - loss: 0.4366 - accuracy: 0.8451\n"
          ]
        },
        {
          "output_type": "execute_result",
          "data": {
            "text/plain": [
              "[0.4365599751472473, 0.8450999855995178]"
            ]
          },
          "metadata": {},
          "execution_count": 125
        }
      ]
    },
    {
      "cell_type": "markdown",
      "metadata": {
        "id": "f8ScN9RJ_BdQ"
      },
      "source": [
        "кількість нейронів не сильно повпливала на точність"
      ]
    },
    {
      "cell_type": "markdown",
      "metadata": {
        "id": "zdliKbg7_jtO"
      },
      "source": [
        "3. Додайте кілька прихованих шарів в мережу з різною кількістю\n",
        "нейронів в кожному шарі. Яким чином це впливає на якість навчання\n",
        "нейронної мережі."
      ]
    },
    {
      "cell_type": "code",
      "metadata": {
        "id": "-sD6SUkN_myu"
      },
      "source": [
        "def create_with_different_hidden_layers():\n",
        "  model = Sequential()\n",
        "  model.add(Dense(600, input_dim=784, activation=\"elu\"))\n",
        "  for i in range(4):\n",
        "    number_of_neurons = random.randint(4, 8) * 100\n",
        "    model.add(Dense(number_of_neurons, activation=\"elu\"))\n",
        "  model.add(Dense(10, activation=\"softmax\"))\n",
        "\n",
        "  model.compile(loss=\"categorical_crossentropy\", optimizer=\"SGD\", metrics=[\"accuracy\"])\n",
        "  return model"
      ],
      "execution_count": null,
      "outputs": []
    },
    {
      "cell_type": "code",
      "metadata": {
        "colab": {
          "base_uri": "https://localhost:8080/"
        },
        "id": "E0afW6ICAuaU",
        "outputId": "13003e1a-1a49-4b0c-c765-accc27386a3b"
      },
      "source": [
        "model_diff_hidden = learn(create_with_different_hidden_layers())"
      ],
      "execution_count": null,
      "outputs": [
        {
          "output_type": "stream",
          "name": "stdout",
          "text": [
            "Epoch 1/20\n",
            "240/240 [==============================] - 2s 5ms/step - loss: 0.9106 - accuracy: 0.7095 - val_loss: 0.6335 - val_accuracy: 0.7831\n",
            "Epoch 2/20\n",
            "240/240 [==============================] - 1s 4ms/step - loss: 0.5711 - accuracy: 0.8033 - val_loss: 0.5278 - val_accuracy: 0.8137\n",
            "Epoch 3/20\n",
            "240/240 [==============================] - 1s 4ms/step - loss: 0.5059 - accuracy: 0.8232 - val_loss: 0.4927 - val_accuracy: 0.8220\n",
            "Epoch 4/20\n",
            "240/240 [==============================] - 1s 4ms/step - loss: 0.4750 - accuracy: 0.8331 - val_loss: 0.4677 - val_accuracy: 0.8323\n",
            "Epoch 5/20\n",
            "240/240 [==============================] - 1s 4ms/step - loss: 0.4562 - accuracy: 0.8386 - val_loss: 0.4568 - val_accuracy: 0.8356\n",
            "Epoch 6/20\n",
            "240/240 [==============================] - 1s 4ms/step - loss: 0.4426 - accuracy: 0.8433 - val_loss: 0.4630 - val_accuracy: 0.8353\n",
            "Epoch 7/20\n",
            "240/240 [==============================] - 1s 4ms/step - loss: 0.4334 - accuracy: 0.8472 - val_loss: 0.4388 - val_accuracy: 0.8438\n",
            "Epoch 8/20\n",
            "240/240 [==============================] - 1s 4ms/step - loss: 0.4247 - accuracy: 0.8495 - val_loss: 0.4244 - val_accuracy: 0.8495\n",
            "Epoch 9/20\n",
            "240/240 [==============================] - 1s 4ms/step - loss: 0.4172 - accuracy: 0.8535 - val_loss: 0.4287 - val_accuracy: 0.8460\n",
            "Epoch 10/20\n",
            "240/240 [==============================] - 1s 4ms/step - loss: 0.4113 - accuracy: 0.8544 - val_loss: 0.4193 - val_accuracy: 0.8488\n",
            "Epoch 11/20\n",
            "240/240 [==============================] - 1s 4ms/step - loss: 0.4041 - accuracy: 0.8574 - val_loss: 0.4105 - val_accuracy: 0.8538\n",
            "Epoch 12/20\n",
            "240/240 [==============================] - 1s 4ms/step - loss: 0.3977 - accuracy: 0.8596 - val_loss: 0.4148 - val_accuracy: 0.8512\n",
            "Epoch 13/20\n",
            "240/240 [==============================] - 1s 4ms/step - loss: 0.3943 - accuracy: 0.8588 - val_loss: 0.4064 - val_accuracy: 0.8552\n",
            "Epoch 14/20\n",
            "240/240 [==============================] - 1s 4ms/step - loss: 0.3887 - accuracy: 0.8618 - val_loss: 0.3997 - val_accuracy: 0.8563\n",
            "Epoch 15/20\n",
            "240/240 [==============================] - 1s 4ms/step - loss: 0.3846 - accuracy: 0.8637 - val_loss: 0.4031 - val_accuracy: 0.8545\n",
            "Epoch 16/20\n",
            "240/240 [==============================] - 1s 4ms/step - loss: 0.3803 - accuracy: 0.8657 - val_loss: 0.4087 - val_accuracy: 0.8517\n",
            "Epoch 17/20\n",
            "240/240 [==============================] - 1s 4ms/step - loss: 0.3763 - accuracy: 0.8652 - val_loss: 0.4055 - val_accuracy: 0.8523\n",
            "Epoch 18/20\n",
            "240/240 [==============================] - 1s 4ms/step - loss: 0.3729 - accuracy: 0.8674 - val_loss: 0.3891 - val_accuracy: 0.8593\n",
            "Epoch 19/20\n",
            "240/240 [==============================] - 1s 4ms/step - loss: 0.3688 - accuracy: 0.8680 - val_loss: 0.3972 - val_accuracy: 0.8572\n",
            "Epoch 20/20\n",
            "240/240 [==============================] - 1s 4ms/step - loss: 0.3651 - accuracy: 0.8690 - val_loss: 0.3922 - val_accuracy: 0.8583\n"
          ]
        }
      ]
    },
    {
      "cell_type": "code",
      "metadata": {
        "colab": {
          "base_uri": "https://localhost:8080/"
        },
        "id": "Wu3aSPVnBCUa",
        "outputId": "dbce62e9-f173-4fd5-88d4-6c64b886bd95"
      },
      "source": [
        "model_diff_hidden.evaluate(x_test, y_test, verbose=1)"
      ],
      "execution_count": null,
      "outputs": [
        {
          "output_type": "stream",
          "name": "stdout",
          "text": [
            "313/313 [==============================] - 1s 2ms/step - loss: 0.4185 - accuracy: 0.8515\n"
          ]
        },
        {
          "output_type": "execute_result",
          "data": {
            "text/plain": [
              "[0.4184877574443817, 0.8514999747276306]"
            ]
          },
          "metadata": {},
          "execution_count": 128
        }
      ]
    },
    {
      "cell_type": "markdown",
      "metadata": {
        "id": "VqimtC6OAzhP"
      },
      "source": [
        "Якість покращилась з 4 прихованими шарами з різною кількістю нейронів."
      ]
    },
    {
      "cell_type": "markdown",
      "metadata": {
        "id": "oKF3eo1TBzKJ"
      },
      "source": [
        "4. Використовуйте різну кількість епох: 10, 15, 20, 25, 30. Аргументуйте\n",
        "відповідь."
      ]
    },
    {
      "cell_type": "code",
      "metadata": {
        "id": "x8aNjdHqB2Fl"
      },
      "source": [
        "def train_with_different_epochs(model, number_of_epochs):\n",
        "  history = model.fit(x_train, y_train,\n",
        "                    batch_size=200,\n",
        "                    epochs=number_of_epochs,\n",
        "                    validation_split=0.2,\n",
        "                    verbose=1)\n",
        "  return model"
      ],
      "execution_count": null,
      "outputs": []
    },
    {
      "cell_type": "code",
      "metadata": {
        "colab": {
          "base_uri": "https://localhost:8080/"
        },
        "id": "gPB-l_S0CUo9",
        "outputId": "35a251f7-1376-4776-922d-ece2c4eba83b"
      },
      "source": [
        "model_10_epochs = train_with_different_epochs(create(600), 10)"
      ],
      "execution_count": null,
      "outputs": [
        {
          "output_type": "stream",
          "name": "stdout",
          "text": [
            "Epoch 1/10\n",
            "240/240 [==============================] - 1s 4ms/step - loss: 1.0020 - accuracy: 0.6961 - val_loss: 0.7120 - val_accuracy: 0.7644\n",
            "Epoch 2/10\n",
            "240/240 [==============================] - 1s 4ms/step - loss: 0.6549 - accuracy: 0.7862 - val_loss: 0.6031 - val_accuracy: 0.7985\n",
            "Epoch 3/10\n",
            "240/240 [==============================] - 1s 4ms/step - loss: 0.5784 - accuracy: 0.8084 - val_loss: 0.5573 - val_accuracy: 0.8096\n",
            "Epoch 4/10\n",
            "240/240 [==============================] - 1s 4ms/step - loss: 0.5388 - accuracy: 0.8199 - val_loss: 0.5263 - val_accuracy: 0.8183\n",
            "Epoch 5/10\n",
            "240/240 [==============================] - 1s 3ms/step - loss: 0.5134 - accuracy: 0.8269 - val_loss: 0.5092 - val_accuracy: 0.8240\n",
            "Epoch 6/10\n",
            "240/240 [==============================] - 1s 4ms/step - loss: 0.4955 - accuracy: 0.8318 - val_loss: 0.4932 - val_accuracy: 0.8284\n",
            "Epoch 7/10\n",
            "240/240 [==============================] - 1s 3ms/step - loss: 0.4819 - accuracy: 0.8352 - val_loss: 0.4859 - val_accuracy: 0.8276\n",
            "Epoch 8/10\n",
            "240/240 [==============================] - 1s 3ms/step - loss: 0.4714 - accuracy: 0.8399 - val_loss: 0.4731 - val_accuracy: 0.8341\n",
            "Epoch 9/10\n",
            "240/240 [==============================] - 1s 3ms/step - loss: 0.4627 - accuracy: 0.8415 - val_loss: 0.4675 - val_accuracy: 0.8367\n",
            "Epoch 10/10\n",
            "240/240 [==============================] - 1s 3ms/step - loss: 0.4552 - accuracy: 0.8441 - val_loss: 0.4598 - val_accuracy: 0.8377\n"
          ]
        }
      ]
    },
    {
      "cell_type": "code",
      "metadata": {
        "colab": {
          "base_uri": "https://localhost:8080/"
        },
        "id": "WSqRDfFjCrKt",
        "outputId": "67d4b10e-988e-4568-a5bf-c9ba14e75cf4"
      },
      "source": [
        "model_15_epochs = train_with_different_epochs(create(600), 15)"
      ],
      "execution_count": null,
      "outputs": [
        {
          "output_type": "stream",
          "name": "stdout",
          "text": [
            "Epoch 1/15\n",
            "240/240 [==============================] - 1s 4ms/step - loss: 1.0248 - accuracy: 0.6873 - val_loss: 0.7207 - val_accuracy: 0.7678\n",
            "Epoch 2/15\n",
            "240/240 [==============================] - 1s 4ms/step - loss: 0.6630 - accuracy: 0.7852 - val_loss: 0.6115 - val_accuracy: 0.7907\n",
            "Epoch 3/15\n",
            "240/240 [==============================] - 1s 3ms/step - loss: 0.5848 - accuracy: 0.8073 - val_loss: 0.5571 - val_accuracy: 0.8102\n",
            "Epoch 4/15\n",
            "240/240 [==============================] - 1s 4ms/step - loss: 0.5432 - accuracy: 0.8186 - val_loss: 0.5279 - val_accuracy: 0.8173\n",
            "Epoch 5/15\n",
            "240/240 [==============================] - 1s 3ms/step - loss: 0.5167 - accuracy: 0.8238 - val_loss: 0.5106 - val_accuracy: 0.8203\n",
            "Epoch 6/15\n",
            "240/240 [==============================] - 1s 4ms/step - loss: 0.4979 - accuracy: 0.8298 - val_loss: 0.4959 - val_accuracy: 0.8256\n",
            "Epoch 7/15\n",
            "240/240 [==============================] - 1s 3ms/step - loss: 0.4837 - accuracy: 0.8348 - val_loss: 0.4829 - val_accuracy: 0.8292\n",
            "Epoch 8/15\n",
            "240/240 [==============================] - 1s 4ms/step - loss: 0.4723 - accuracy: 0.8382 - val_loss: 0.4811 - val_accuracy: 0.8292\n",
            "Epoch 9/15\n",
            "240/240 [==============================] - 1s 4ms/step - loss: 0.4635 - accuracy: 0.8397 - val_loss: 0.4680 - val_accuracy: 0.8357\n",
            "Epoch 10/15\n",
            "240/240 [==============================] - 1s 4ms/step - loss: 0.4556 - accuracy: 0.8424 - val_loss: 0.4596 - val_accuracy: 0.8412\n",
            "Epoch 11/15\n",
            "240/240 [==============================] - 1s 4ms/step - loss: 0.4495 - accuracy: 0.8438 - val_loss: 0.4524 - val_accuracy: 0.8401\n",
            "Epoch 12/15\n",
            "240/240 [==============================] - 1s 4ms/step - loss: 0.4437 - accuracy: 0.8477 - val_loss: 0.4514 - val_accuracy: 0.8421\n",
            "Epoch 13/15\n",
            "240/240 [==============================] - 1s 3ms/step - loss: 0.4386 - accuracy: 0.8473 - val_loss: 0.4451 - val_accuracy: 0.8440\n",
            "Epoch 14/15\n",
            "240/240 [==============================] - 1s 4ms/step - loss: 0.4339 - accuracy: 0.8491 - val_loss: 0.4402 - val_accuracy: 0.8467\n",
            "Epoch 15/15\n",
            "240/240 [==============================] - 1s 3ms/step - loss: 0.4302 - accuracy: 0.8513 - val_loss: 0.4428 - val_accuracy: 0.8436\n"
          ]
        }
      ]
    },
    {
      "cell_type": "code",
      "metadata": {
        "colab": {
          "base_uri": "https://localhost:8080/"
        },
        "id": "x9UQ6DgSCshu",
        "outputId": "d47e15f7-059e-4233-80bf-e89763a0fc24"
      },
      "source": [
        "model_20_epochs = train_with_different_epochs(create(600), 20)"
      ],
      "execution_count": null,
      "outputs": [
        {
          "output_type": "stream",
          "name": "stdout",
          "text": [
            "Epoch 1/20\n",
            "240/240 [==============================] - 1s 4ms/step - loss: 0.9996 - accuracy: 0.6963 - val_loss: 0.7087 - val_accuracy: 0.7680\n",
            "Epoch 2/20\n",
            "240/240 [==============================] - 1s 3ms/step - loss: 0.6541 - accuracy: 0.7897 - val_loss: 0.6027 - val_accuracy: 0.8005\n",
            "Epoch 3/20\n",
            "240/240 [==============================] - 1s 3ms/step - loss: 0.5791 - accuracy: 0.8091 - val_loss: 0.5532 - val_accuracy: 0.8133\n",
            "Epoch 4/20\n",
            "240/240 [==============================] - 1s 4ms/step - loss: 0.5390 - accuracy: 0.8207 - val_loss: 0.5256 - val_accuracy: 0.8199\n",
            "Epoch 5/20\n",
            "240/240 [==============================] - 1s 3ms/step - loss: 0.5137 - accuracy: 0.8271 - val_loss: 0.5036 - val_accuracy: 0.8261\n",
            "Epoch 6/20\n",
            "240/240 [==============================] - 1s 3ms/step - loss: 0.4962 - accuracy: 0.8315 - val_loss: 0.4938 - val_accuracy: 0.8270\n",
            "Epoch 7/20\n",
            "240/240 [==============================] - 1s 3ms/step - loss: 0.4822 - accuracy: 0.8341 - val_loss: 0.4804 - val_accuracy: 0.8322\n",
            "Epoch 8/20\n",
            "240/240 [==============================] - 1s 4ms/step - loss: 0.4718 - accuracy: 0.8379 - val_loss: 0.4710 - val_accuracy: 0.8341\n",
            "Epoch 9/20\n",
            "240/240 [==============================] - 1s 4ms/step - loss: 0.4627 - accuracy: 0.8400 - val_loss: 0.4625 - val_accuracy: 0.8385\n",
            "Epoch 10/20\n",
            "240/240 [==============================] - 1s 4ms/step - loss: 0.4550 - accuracy: 0.8426 - val_loss: 0.4619 - val_accuracy: 0.8377\n",
            "Epoch 11/20\n",
            "240/240 [==============================] - 1s 4ms/step - loss: 0.4492 - accuracy: 0.8451 - val_loss: 0.4528 - val_accuracy: 0.8418\n",
            "Epoch 12/20\n",
            "240/240 [==============================] - 1s 3ms/step - loss: 0.4438 - accuracy: 0.8463 - val_loss: 0.4499 - val_accuracy: 0.8397\n",
            "Epoch 13/20\n",
            "240/240 [==============================] - 1s 3ms/step - loss: 0.4390 - accuracy: 0.8485 - val_loss: 0.4452 - val_accuracy: 0.8414\n",
            "Epoch 14/20\n",
            "240/240 [==============================] - 1s 3ms/step - loss: 0.4338 - accuracy: 0.8495 - val_loss: 0.4444 - val_accuracy: 0.8424\n",
            "Epoch 15/20\n",
            "240/240 [==============================] - 1s 4ms/step - loss: 0.4295 - accuracy: 0.8508 - val_loss: 0.4364 - val_accuracy: 0.8479\n",
            "Epoch 16/20\n",
            "240/240 [==============================] - 1s 3ms/step - loss: 0.4262 - accuracy: 0.8521 - val_loss: 0.4374 - val_accuracy: 0.8465\n",
            "Epoch 17/20\n",
            "240/240 [==============================] - 1s 3ms/step - loss: 0.4229 - accuracy: 0.8531 - val_loss: 0.4306 - val_accuracy: 0.8482\n",
            "Epoch 18/20\n",
            "240/240 [==============================] - 1s 3ms/step - loss: 0.4198 - accuracy: 0.8548 - val_loss: 0.4277 - val_accuracy: 0.8506\n",
            "Epoch 19/20\n",
            "240/240 [==============================] - 1s 3ms/step - loss: 0.4168 - accuracy: 0.8533 - val_loss: 0.4277 - val_accuracy: 0.8501\n",
            "Epoch 20/20\n",
            "240/240 [==============================] - 1s 4ms/step - loss: 0.4142 - accuracy: 0.8555 - val_loss: 0.4236 - val_accuracy: 0.8519\n"
          ]
        }
      ]
    },
    {
      "cell_type": "code",
      "metadata": {
        "colab": {
          "base_uri": "https://localhost:8080/"
        },
        "id": "Qvz-tXCgCtw5",
        "outputId": "25581eb0-1396-499c-cdac-8d0787008803"
      },
      "source": [
        "model_25_epochs = train_with_different_epochs(create(600), 25)"
      ],
      "execution_count": null,
      "outputs": [
        {
          "output_type": "stream",
          "name": "stdout",
          "text": [
            "Epoch 1/25\n",
            "240/240 [==============================] - 1s 4ms/step - loss: 1.0185 - accuracy: 0.6923 - val_loss: 0.7150 - val_accuracy: 0.7632\n",
            "Epoch 2/25\n",
            "240/240 [==============================] - 1s 4ms/step - loss: 0.6563 - accuracy: 0.7847 - val_loss: 0.6053 - val_accuracy: 0.7993\n",
            "Epoch 3/25\n",
            "240/240 [==============================] - 1s 4ms/step - loss: 0.5803 - accuracy: 0.8075 - val_loss: 0.5598 - val_accuracy: 0.8083\n",
            "Epoch 4/25\n",
            "240/240 [==============================] - 1s 4ms/step - loss: 0.5397 - accuracy: 0.8188 - val_loss: 0.5254 - val_accuracy: 0.8198\n",
            "Epoch 5/25\n",
            "240/240 [==============================] - 1s 3ms/step - loss: 0.5143 - accuracy: 0.8264 - val_loss: 0.5052 - val_accuracy: 0.8232\n",
            "Epoch 6/25\n",
            "240/240 [==============================] - 1s 4ms/step - loss: 0.4957 - accuracy: 0.8314 - val_loss: 0.4930 - val_accuracy: 0.8282\n",
            "Epoch 7/25\n",
            "240/240 [==============================] - 1s 4ms/step - loss: 0.4826 - accuracy: 0.8349 - val_loss: 0.4814 - val_accuracy: 0.8307\n",
            "Epoch 8/25\n",
            "240/240 [==============================] - 1s 3ms/step - loss: 0.4712 - accuracy: 0.8390 - val_loss: 0.4754 - val_accuracy: 0.8328\n",
            "Epoch 9/25\n",
            "240/240 [==============================] - 1s 4ms/step - loss: 0.4624 - accuracy: 0.8415 - val_loss: 0.4643 - val_accuracy: 0.8355\n",
            "Epoch 10/25\n",
            "240/240 [==============================] - 1s 3ms/step - loss: 0.4555 - accuracy: 0.8437 - val_loss: 0.4607 - val_accuracy: 0.8349\n",
            "Epoch 11/25\n",
            "240/240 [==============================] - 1s 3ms/step - loss: 0.4485 - accuracy: 0.8454 - val_loss: 0.4545 - val_accuracy: 0.8396\n",
            "Epoch 12/25\n",
            "240/240 [==============================] - 1s 4ms/step - loss: 0.4430 - accuracy: 0.8472 - val_loss: 0.4485 - val_accuracy: 0.8428\n",
            "Epoch 13/25\n",
            "240/240 [==============================] - 1s 3ms/step - loss: 0.4384 - accuracy: 0.8495 - val_loss: 0.4426 - val_accuracy: 0.8437\n",
            "Epoch 14/25\n",
            "240/240 [==============================] - 1s 3ms/step - loss: 0.4344 - accuracy: 0.8491 - val_loss: 0.4418 - val_accuracy: 0.8432\n",
            "Epoch 15/25\n",
            "240/240 [==============================] - 1s 3ms/step - loss: 0.4300 - accuracy: 0.8519 - val_loss: 0.4427 - val_accuracy: 0.8442\n",
            "Epoch 16/25\n",
            "240/240 [==============================] - 1s 4ms/step - loss: 0.4257 - accuracy: 0.8525 - val_loss: 0.4366 - val_accuracy: 0.8453\n",
            "Epoch 17/25\n",
            "240/240 [==============================] - 1s 4ms/step - loss: 0.4227 - accuracy: 0.8540 - val_loss: 0.4324 - val_accuracy: 0.8487\n",
            "Epoch 18/25\n",
            "240/240 [==============================] - 1s 3ms/step - loss: 0.4198 - accuracy: 0.8551 - val_loss: 0.4349 - val_accuracy: 0.8462\n",
            "Epoch 19/25\n",
            "240/240 [==============================] - 1s 3ms/step - loss: 0.4168 - accuracy: 0.8547 - val_loss: 0.4261 - val_accuracy: 0.8503\n",
            "Epoch 20/25\n",
            "240/240 [==============================] - 1s 4ms/step - loss: 0.4137 - accuracy: 0.8573 - val_loss: 0.4231 - val_accuracy: 0.8526\n",
            "Epoch 21/25\n",
            "240/240 [==============================] - 1s 4ms/step - loss: 0.4113 - accuracy: 0.8566 - val_loss: 0.4254 - val_accuracy: 0.8506\n",
            "Epoch 22/25\n",
            "240/240 [==============================] - 1s 3ms/step - loss: 0.4085 - accuracy: 0.8573 - val_loss: 0.4192 - val_accuracy: 0.8536\n",
            "Epoch 23/25\n",
            "240/240 [==============================] - 1s 4ms/step - loss: 0.4063 - accuracy: 0.8588 - val_loss: 0.4182 - val_accuracy: 0.8533\n",
            "Epoch 24/25\n",
            "240/240 [==============================] - 1s 4ms/step - loss: 0.4040 - accuracy: 0.8590 - val_loss: 0.4223 - val_accuracy: 0.8517\n",
            "Epoch 25/25\n",
            "240/240 [==============================] - 1s 4ms/step - loss: 0.4022 - accuracy: 0.8594 - val_loss: 0.4213 - val_accuracy: 0.8499\n"
          ]
        }
      ]
    },
    {
      "cell_type": "code",
      "metadata": {
        "colab": {
          "base_uri": "https://localhost:8080/"
        },
        "id": "X9IagZtECu8e",
        "outputId": "13c44903-1387-4abb-fa8f-38f7622fcf77"
      },
      "source": [
        "model_30_epochs = train_with_different_epochs(create(600), 30)"
      ],
      "execution_count": null,
      "outputs": [
        {
          "output_type": "stream",
          "name": "stdout",
          "text": [
            "Epoch 1/30\n",
            "240/240 [==============================] - 1s 4ms/step - loss: 1.0145 - accuracy: 0.6917 - val_loss: 0.7228 - val_accuracy: 0.7671\n",
            "Epoch 2/30\n",
            "240/240 [==============================] - 1s 4ms/step - loss: 0.6616 - accuracy: 0.7832 - val_loss: 0.6122 - val_accuracy: 0.7918\n",
            "Epoch 3/30\n",
            "240/240 [==============================] - 1s 4ms/step - loss: 0.5854 - accuracy: 0.8046 - val_loss: 0.5620 - val_accuracy: 0.8092\n",
            "Epoch 4/30\n",
            "240/240 [==============================] - 1s 4ms/step - loss: 0.5446 - accuracy: 0.8160 - val_loss: 0.5321 - val_accuracy: 0.8177\n",
            "Epoch 5/30\n",
            "240/240 [==============================] - 1s 3ms/step - loss: 0.5180 - accuracy: 0.8243 - val_loss: 0.5150 - val_accuracy: 0.8213\n",
            "Epoch 6/30\n",
            "240/240 [==============================] - 1s 3ms/step - loss: 0.4993 - accuracy: 0.8287 - val_loss: 0.4998 - val_accuracy: 0.8225\n",
            "Epoch 7/30\n",
            "240/240 [==============================] - 1s 4ms/step - loss: 0.4859 - accuracy: 0.8328 - val_loss: 0.4870 - val_accuracy: 0.8279\n",
            "Epoch 8/30\n",
            "240/240 [==============================] - 1s 4ms/step - loss: 0.4751 - accuracy: 0.8361 - val_loss: 0.4782 - val_accuracy: 0.8295\n",
            "Epoch 9/30\n",
            "240/240 [==============================] - 1s 4ms/step - loss: 0.4655 - accuracy: 0.8398 - val_loss: 0.4707 - val_accuracy: 0.8310\n",
            "Epoch 10/30\n",
            "240/240 [==============================] - 1s 3ms/step - loss: 0.4581 - accuracy: 0.8413 - val_loss: 0.4666 - val_accuracy: 0.8338\n",
            "Epoch 11/30\n",
            "240/240 [==============================] - 1s 3ms/step - loss: 0.4512 - accuracy: 0.8440 - val_loss: 0.4574 - val_accuracy: 0.8357\n",
            "Epoch 12/30\n",
            "240/240 [==============================] - 1s 3ms/step - loss: 0.4454 - accuracy: 0.8453 - val_loss: 0.4561 - val_accuracy: 0.8397\n",
            "Epoch 13/30\n",
            "240/240 [==============================] - 1s 4ms/step - loss: 0.4402 - accuracy: 0.8476 - val_loss: 0.4496 - val_accuracy: 0.8364\n",
            "Epoch 14/30\n",
            "240/240 [==============================] - 1s 4ms/step - loss: 0.4355 - accuracy: 0.8490 - val_loss: 0.4472 - val_accuracy: 0.8407\n",
            "Epoch 15/30\n",
            "240/240 [==============================] - 1s 4ms/step - loss: 0.4315 - accuracy: 0.8506 - val_loss: 0.4400 - val_accuracy: 0.8433\n",
            "Epoch 16/30\n",
            "240/240 [==============================] - 1s 4ms/step - loss: 0.4277 - accuracy: 0.8517 - val_loss: 0.4408 - val_accuracy: 0.8431\n",
            "Epoch 17/30\n",
            "240/240 [==============================] - 1s 3ms/step - loss: 0.4241 - accuracy: 0.8524 - val_loss: 0.4337 - val_accuracy: 0.8462\n",
            "Epoch 18/30\n",
            "240/240 [==============================] - 1s 4ms/step - loss: 0.4209 - accuracy: 0.8534 - val_loss: 0.4323 - val_accuracy: 0.8452\n",
            "Epoch 19/30\n",
            "240/240 [==============================] - 1s 4ms/step - loss: 0.4182 - accuracy: 0.8541 - val_loss: 0.4282 - val_accuracy: 0.8483\n",
            "Epoch 20/30\n",
            "240/240 [==============================] - 1s 3ms/step - loss: 0.4160 - accuracy: 0.8551 - val_loss: 0.4262 - val_accuracy: 0.8479\n",
            "Epoch 21/30\n",
            "240/240 [==============================] - 1s 4ms/step - loss: 0.4132 - accuracy: 0.8557 - val_loss: 0.4247 - val_accuracy: 0.8485\n",
            "Epoch 22/30\n",
            "240/240 [==============================] - 1s 3ms/step - loss: 0.4095 - accuracy: 0.8569 - val_loss: 0.4211 - val_accuracy: 0.8508\n",
            "Epoch 23/30\n",
            "240/240 [==============================] - 1s 4ms/step - loss: 0.4072 - accuracy: 0.8582 - val_loss: 0.4204 - val_accuracy: 0.8508\n",
            "Epoch 24/30\n",
            "240/240 [==============================] - 1s 4ms/step - loss: 0.4054 - accuracy: 0.8573 - val_loss: 0.4182 - val_accuracy: 0.8512\n",
            "Epoch 25/30\n",
            "240/240 [==============================] - 1s 4ms/step - loss: 0.4024 - accuracy: 0.8595 - val_loss: 0.4212 - val_accuracy: 0.8493\n",
            "Epoch 26/30\n",
            "240/240 [==============================] - 1s 4ms/step - loss: 0.4014 - accuracy: 0.8587 - val_loss: 0.4164 - val_accuracy: 0.8534\n",
            "Epoch 27/30\n",
            "240/240 [==============================] - 1s 4ms/step - loss: 0.3994 - accuracy: 0.8601 - val_loss: 0.4153 - val_accuracy: 0.8523\n",
            "Epoch 28/30\n",
            "240/240 [==============================] - 1s 4ms/step - loss: 0.3971 - accuracy: 0.8603 - val_loss: 0.4125 - val_accuracy: 0.8527\n",
            "Epoch 29/30\n",
            "240/240 [==============================] - 1s 4ms/step - loss: 0.3948 - accuracy: 0.8612 - val_loss: 0.4114 - val_accuracy: 0.8540\n",
            "Epoch 30/30\n",
            "240/240 [==============================] - 1s 3ms/step - loss: 0.3935 - accuracy: 0.8615 - val_loss: 0.4117 - val_accuracy: 0.8536\n"
          ]
        }
      ]
    },
    {
      "cell_type": "code",
      "metadata": {
        "colab": {
          "base_uri": "https://localhost:8080/"
        },
        "id": "_gGDN9n6EKx2",
        "outputId": "f9336916-5328-4ea8-864c-85d2f1136d36"
      },
      "source": [
        "model_10_epochs.evaluate(x_test, y_test, verbose=1)\n",
        "model_15_epochs.evaluate(x_test, y_test, verbose=1)\n",
        "model_20_epochs.evaluate(x_test, y_test, verbose=1)\n",
        "model_25_epochs.evaluate(x_test, y_test, verbose=1)\n",
        "model_30_epochs.evaluate(x_test, y_test, verbose=1)"
      ],
      "execution_count": null,
      "outputs": [
        {
          "output_type": "stream",
          "name": "stdout",
          "text": [
            "313/313 [==============================] - 1s 2ms/step - loss: 0.4838 - accuracy: 0.8289\n",
            "313/313 [==============================] - 1s 2ms/step - loss: 0.4667 - accuracy: 0.8340\n",
            "313/313 [==============================] - 1s 2ms/step - loss: 0.4491 - accuracy: 0.8408\n",
            "313/313 [==============================] - 1s 2ms/step - loss: 0.4482 - accuracy: 0.8402\n",
            "313/313 [==============================] - 1s 2ms/step - loss: 0.4389 - accuracy: 0.8434\n"
          ]
        },
        {
          "output_type": "execute_result",
          "data": {
            "text/plain": [
              "[0.4388684928417206, 0.8434000015258789]"
            ]
          },
          "metadata": {},
          "execution_count": 135
        }
      ]
    },
    {
      "cell_type": "markdown",
      "metadata": {
        "id": "Ge6YHxe9EW5R"
      },
      "source": [
        "З більшою кількістю епох точність вища, бо НМ вчиться краще, коли їх більше"
      ]
    },
    {
      "cell_type": "markdown",
      "metadata": {
        "id": "GL855wg_Eojl"
      },
      "source": [
        "5. Використовуйте різні розміри міні-вибірки (batch_size): 10, 50, 100, 200, 500. Аргументуйте відповідь."
      ]
    },
    {
      "cell_type": "code",
      "metadata": {
        "id": "quqAb3fJEubk"
      },
      "source": [
        "def train_with_different_batch_size(model, number_of_batch):\n",
        "  history = model.fit(x_train, y_train,\n",
        "                    batch_size=number_of_batch,\n",
        "                    epochs=30,\n",
        "                    validation_split=0.2,\n",
        "                    verbose=1)\n",
        "  return model"
      ],
      "execution_count": null,
      "outputs": []
    },
    {
      "cell_type": "code",
      "metadata": {
        "colab": {
          "base_uri": "https://localhost:8080/"
        },
        "id": "hgfZXtx7FGGr",
        "outputId": "3e863a5a-40cf-4d76-eef1-26ae56ad350c"
      },
      "source": [
        "model_10_batch = train_with_different_batch_size(create(600), 10)"
      ],
      "execution_count": null,
      "outputs": [
        {
          "output_type": "stream",
          "name": "stdout",
          "text": [
            "Epoch 1/30\n",
            "4800/4800 [==============================] - 14s 3ms/step - loss: 0.5481 - accuracy: 0.8095 - val_loss: 0.4604 - val_accuracy: 0.8333\n",
            "Epoch 2/30\n",
            "4800/4800 [==============================] - 13s 3ms/step - loss: 0.4383 - accuracy: 0.8433 - val_loss: 0.4185 - val_accuracy: 0.8537\n",
            "Epoch 3/30\n",
            "4800/4800 [==============================] - 14s 3ms/step - loss: 0.4074 - accuracy: 0.8549 - val_loss: 0.4076 - val_accuracy: 0.8551\n",
            "Epoch 4/30\n",
            "4800/4800 [==============================] - 14s 3ms/step - loss: 0.3880 - accuracy: 0.8615 - val_loss: 0.4195 - val_accuracy: 0.8515\n",
            "Epoch 5/30\n",
            "4800/4800 [==============================] - 14s 3ms/step - loss: 0.3719 - accuracy: 0.8663 - val_loss: 0.3685 - val_accuracy: 0.8667\n",
            "Epoch 6/30\n",
            "4800/4800 [==============================] - 13s 3ms/step - loss: 0.3575 - accuracy: 0.8700 - val_loss: 0.3767 - val_accuracy: 0.8667\n",
            "Epoch 7/30\n",
            "4800/4800 [==============================] - 14s 3ms/step - loss: 0.3458 - accuracy: 0.8744 - val_loss: 0.3642 - val_accuracy: 0.8699\n",
            "Epoch 8/30\n",
            "4800/4800 [==============================] - 14s 3ms/step - loss: 0.3359 - accuracy: 0.8767 - val_loss: 0.3818 - val_accuracy: 0.8641\n",
            "Epoch 9/30\n",
            "4800/4800 [==============================] - 13s 3ms/step - loss: 0.3246 - accuracy: 0.8816 - val_loss: 0.3598 - val_accuracy: 0.8699\n",
            "Epoch 10/30\n",
            "4800/4800 [==============================] - 14s 3ms/step - loss: 0.3183 - accuracy: 0.8839 - val_loss: 0.3457 - val_accuracy: 0.8739\n",
            "Epoch 11/30\n",
            "4800/4800 [==============================] - 13s 3ms/step - loss: 0.3097 - accuracy: 0.8861 - val_loss: 0.3463 - val_accuracy: 0.8748\n",
            "Epoch 12/30\n",
            "4800/4800 [==============================] - 13s 3ms/step - loss: 0.3025 - accuracy: 0.8886 - val_loss: 0.3617 - val_accuracy: 0.8650\n",
            "Epoch 13/30\n",
            "4800/4800 [==============================] - 13s 3ms/step - loss: 0.2964 - accuracy: 0.8902 - val_loss: 0.3373 - val_accuracy: 0.8773\n",
            "Epoch 14/30\n",
            "4800/4800 [==============================] - 14s 3ms/step - loss: 0.2904 - accuracy: 0.8923 - val_loss: 0.3390 - val_accuracy: 0.8785\n",
            "Epoch 15/30\n",
            "4800/4800 [==============================] - 14s 3ms/step - loss: 0.2843 - accuracy: 0.8955 - val_loss: 0.3473 - val_accuracy: 0.8748\n",
            "Epoch 16/30\n",
            "4800/4800 [==============================] - 14s 3ms/step - loss: 0.2793 - accuracy: 0.8972 - val_loss: 0.3509 - val_accuracy: 0.8749\n",
            "Epoch 17/30\n",
            "4800/4800 [==============================] - 14s 3ms/step - loss: 0.2735 - accuracy: 0.8995 - val_loss: 0.3466 - val_accuracy: 0.8790\n",
            "Epoch 18/30\n",
            "4800/4800 [==============================] - 14s 3ms/step - loss: 0.2693 - accuracy: 0.9011 - val_loss: 0.3358 - val_accuracy: 0.8802\n",
            "Epoch 19/30\n",
            "4800/4800 [==============================] - 13s 3ms/step - loss: 0.2646 - accuracy: 0.9013 - val_loss: 0.3270 - val_accuracy: 0.8837\n",
            "Epoch 20/30\n",
            "4800/4800 [==============================] - 14s 3ms/step - loss: 0.2586 - accuracy: 0.9057 - val_loss: 0.3449 - val_accuracy: 0.8748\n",
            "Epoch 21/30\n",
            "4800/4800 [==============================] - 14s 3ms/step - loss: 0.2552 - accuracy: 0.9050 - val_loss: 0.3205 - val_accuracy: 0.8838\n",
            "Epoch 22/30\n",
            "4800/4800 [==============================] - 13s 3ms/step - loss: 0.2510 - accuracy: 0.9066 - val_loss: 0.3193 - val_accuracy: 0.8867\n",
            "Epoch 23/30\n",
            "4800/4800 [==============================] - 14s 3ms/step - loss: 0.2467 - accuracy: 0.9085 - val_loss: 0.3315 - val_accuracy: 0.8813\n",
            "Epoch 24/30\n",
            "4800/4800 [==============================] - 13s 3ms/step - loss: 0.2413 - accuracy: 0.9103 - val_loss: 0.3183 - val_accuracy: 0.8869\n",
            "Epoch 25/30\n",
            "4800/4800 [==============================] - 13s 3ms/step - loss: 0.2371 - accuracy: 0.9113 - val_loss: 0.3283 - val_accuracy: 0.8831\n",
            "Epoch 26/30\n",
            "4800/4800 [==============================] - 13s 3ms/step - loss: 0.2338 - accuracy: 0.9134 - val_loss: 0.3169 - val_accuracy: 0.8866\n",
            "Epoch 27/30\n",
            "4800/4800 [==============================] - 14s 3ms/step - loss: 0.2302 - accuracy: 0.9143 - val_loss: 0.3177 - val_accuracy: 0.8869\n",
            "Epoch 28/30\n",
            "4800/4800 [==============================] - 14s 3ms/step - loss: 0.2275 - accuracy: 0.9147 - val_loss: 0.3236 - val_accuracy: 0.8857\n",
            "Epoch 29/30\n",
            "4800/4800 [==============================] - 14s 3ms/step - loss: 0.2227 - accuracy: 0.9176 - val_loss: 0.3212 - val_accuracy: 0.8841\n",
            "Epoch 30/30\n",
            "4800/4800 [==============================] - 13s 3ms/step - loss: 0.2190 - accuracy: 0.9192 - val_loss: 0.3173 - val_accuracy: 0.8860\n"
          ]
        }
      ]
    },
    {
      "cell_type": "code",
      "metadata": {
        "colab": {
          "base_uri": "https://localhost:8080/"
        },
        "id": "cXhZktg8FNku",
        "outputId": "a747bc46-f328-47ce-ce7e-bc15b4091b53"
      },
      "source": [
        "model_50_batch = train_with_different_batch_size(create(600), 50)"
      ],
      "execution_count": null,
      "outputs": [
        {
          "output_type": "stream",
          "name": "stdout",
          "text": [
            "Epoch 1/30\n",
            "960/960 [==============================] - 3s 3ms/step - loss: 0.7084 - accuracy: 0.7688 - val_loss: 0.5415 - val_accuracy: 0.8133\n",
            "Epoch 2/30\n",
            "960/960 [==============================] - 3s 3ms/step - loss: 0.5032 - accuracy: 0.8261 - val_loss: 0.4891 - val_accuracy: 0.8271\n",
            "Epoch 3/30\n",
            "960/960 [==============================] - 3s 3ms/step - loss: 0.4654 - accuracy: 0.8378 - val_loss: 0.4586 - val_accuracy: 0.8395\n",
            "Epoch 4/30\n",
            "960/960 [==============================] - 3s 3ms/step - loss: 0.4439 - accuracy: 0.8444 - val_loss: 0.4432 - val_accuracy: 0.8447\n",
            "Epoch 5/30\n",
            "960/960 [==============================] - 3s 3ms/step - loss: 0.4290 - accuracy: 0.8496 - val_loss: 0.4334 - val_accuracy: 0.8443\n",
            "Epoch 6/30\n",
            "960/960 [==============================] - 3s 3ms/step - loss: 0.4187 - accuracy: 0.8540 - val_loss: 0.4247 - val_accuracy: 0.8522\n",
            "Epoch 7/30\n",
            "960/960 [==============================] - 3s 3ms/step - loss: 0.4096 - accuracy: 0.8567 - val_loss: 0.4157 - val_accuracy: 0.8546\n",
            "Epoch 8/30\n",
            "960/960 [==============================] - 3s 3ms/step - loss: 0.4017 - accuracy: 0.8591 - val_loss: 0.4214 - val_accuracy: 0.8517\n",
            "Epoch 9/30\n",
            "960/960 [==============================] - 3s 3ms/step - loss: 0.3952 - accuracy: 0.8608 - val_loss: 0.4364 - val_accuracy: 0.8486\n",
            "Epoch 10/30\n",
            "960/960 [==============================] - 3s 3ms/step - loss: 0.3891 - accuracy: 0.8639 - val_loss: 0.4044 - val_accuracy: 0.8593\n",
            "Epoch 11/30\n",
            "960/960 [==============================] - 3s 3ms/step - loss: 0.3838 - accuracy: 0.8646 - val_loss: 0.3942 - val_accuracy: 0.8585\n",
            "Epoch 12/30\n",
            "960/960 [==============================] - 3s 3ms/step - loss: 0.3788 - accuracy: 0.8666 - val_loss: 0.4053 - val_accuracy: 0.8553\n",
            "Epoch 13/30\n",
            "960/960 [==============================] - 3s 3ms/step - loss: 0.3724 - accuracy: 0.8671 - val_loss: 0.3993 - val_accuracy: 0.8587\n",
            "Epoch 14/30\n",
            "960/960 [==============================] - 3s 3ms/step - loss: 0.3680 - accuracy: 0.8704 - val_loss: 0.4028 - val_accuracy: 0.8569\n",
            "Epoch 15/30\n",
            "960/960 [==============================] - 3s 3ms/step - loss: 0.3635 - accuracy: 0.8714 - val_loss: 0.3846 - val_accuracy: 0.8637\n",
            "Epoch 16/30\n",
            "960/960 [==============================] - 3s 3ms/step - loss: 0.3589 - accuracy: 0.8725 - val_loss: 0.4041 - val_accuracy: 0.8564\n",
            "Epoch 17/30\n",
            "960/960 [==============================] - 3s 3ms/step - loss: 0.3563 - accuracy: 0.8734 - val_loss: 0.3792 - val_accuracy: 0.8624\n",
            "Epoch 18/30\n",
            "960/960 [==============================] - 3s 3ms/step - loss: 0.3513 - accuracy: 0.8763 - val_loss: 0.3783 - val_accuracy: 0.8653\n",
            "Epoch 19/30\n",
            "960/960 [==============================] - 3s 3ms/step - loss: 0.3479 - accuracy: 0.8757 - val_loss: 0.3817 - val_accuracy: 0.8649\n",
            "Epoch 20/30\n",
            "960/960 [==============================] - 3s 3ms/step - loss: 0.3434 - accuracy: 0.8775 - val_loss: 0.3754 - val_accuracy: 0.8632\n",
            "Epoch 21/30\n",
            "960/960 [==============================] - 3s 3ms/step - loss: 0.3410 - accuracy: 0.8788 - val_loss: 0.3740 - val_accuracy: 0.8650\n",
            "Epoch 22/30\n",
            "960/960 [==============================] - 3s 3ms/step - loss: 0.3376 - accuracy: 0.8800 - val_loss: 0.3704 - val_accuracy: 0.8690\n",
            "Epoch 23/30\n",
            "960/960 [==============================] - 3s 3ms/step - loss: 0.3347 - accuracy: 0.8813 - val_loss: 0.3724 - val_accuracy: 0.8674\n",
            "Epoch 24/30\n",
            "960/960 [==============================] - 3s 3ms/step - loss: 0.3321 - accuracy: 0.8811 - val_loss: 0.3604 - val_accuracy: 0.8702\n",
            "Epoch 25/30\n",
            "960/960 [==============================] - 3s 3ms/step - loss: 0.3279 - accuracy: 0.8835 - val_loss: 0.3610 - val_accuracy: 0.8722\n",
            "Epoch 26/30\n",
            "960/960 [==============================] - 3s 3ms/step - loss: 0.3259 - accuracy: 0.8834 - val_loss: 0.3727 - val_accuracy: 0.8657\n",
            "Epoch 27/30\n",
            "960/960 [==============================] - 3s 3ms/step - loss: 0.3225 - accuracy: 0.8842 - val_loss: 0.3635 - val_accuracy: 0.8689\n",
            "Epoch 28/30\n",
            "960/960 [==============================] - 3s 3ms/step - loss: 0.3211 - accuracy: 0.8847 - val_loss: 0.3663 - val_accuracy: 0.8679\n",
            "Epoch 29/30\n",
            "960/960 [==============================] - 3s 3ms/step - loss: 0.3165 - accuracy: 0.8856 - val_loss: 0.3613 - val_accuracy: 0.8712\n",
            "Epoch 30/30\n",
            "960/960 [==============================] - 3s 3ms/step - loss: 0.3140 - accuracy: 0.8869 - val_loss: 0.3865 - val_accuracy: 0.8595\n"
          ]
        }
      ]
    },
    {
      "cell_type": "code",
      "metadata": {
        "colab": {
          "base_uri": "https://localhost:8080/"
        },
        "id": "FmQEehMnFObE",
        "outputId": "288d02fa-cee8-43d1-af61-c5c4377505fc"
      },
      "source": [
        "model_100_batch = train_with_different_batch_size(create(600), 100)"
      ],
      "execution_count": null,
      "outputs": [
        {
          "output_type": "stream",
          "name": "stdout",
          "text": [
            "Epoch 1/30\n",
            "480/480 [==============================] - 2s 4ms/step - loss: 0.8440 - accuracy: 0.7297 - val_loss: 0.6180 - val_accuracy: 0.7940\n",
            "Epoch 2/30\n",
            "480/480 [==============================] - 1s 3ms/step - loss: 0.5693 - accuracy: 0.8084 - val_loss: 0.5320 - val_accuracy: 0.8188\n",
            "Epoch 3/30\n",
            "480/480 [==============================] - 2s 3ms/step - loss: 0.5128 - accuracy: 0.8250 - val_loss: 0.5043 - val_accuracy: 0.8215\n",
            "Epoch 4/30\n",
            "480/480 [==============================] - 2s 3ms/step - loss: 0.4847 - accuracy: 0.8329 - val_loss: 0.4808 - val_accuracy: 0.8294\n",
            "Epoch 5/30\n",
            "480/480 [==============================] - 1s 3ms/step - loss: 0.4657 - accuracy: 0.8399 - val_loss: 0.4652 - val_accuracy: 0.8361\n",
            "Epoch 6/30\n",
            "480/480 [==============================] - 2s 3ms/step - loss: 0.4521 - accuracy: 0.8437 - val_loss: 0.4584 - val_accuracy: 0.8404\n",
            "Epoch 7/30\n",
            "480/480 [==============================] - 2s 3ms/step - loss: 0.4415 - accuracy: 0.8461 - val_loss: 0.4511 - val_accuracy: 0.8378\n",
            "Epoch 8/30\n",
            "480/480 [==============================] - 2s 3ms/step - loss: 0.4335 - accuracy: 0.8490 - val_loss: 0.4463 - val_accuracy: 0.8447\n",
            "Epoch 9/30\n",
            "480/480 [==============================] - 2s 3ms/step - loss: 0.4263 - accuracy: 0.8520 - val_loss: 0.4322 - val_accuracy: 0.8482\n",
            "Epoch 10/30\n",
            "480/480 [==============================] - 2s 3ms/step - loss: 0.4203 - accuracy: 0.8538 - val_loss: 0.4301 - val_accuracy: 0.8457\n",
            "Epoch 11/30\n",
            "480/480 [==============================] - 1s 3ms/step - loss: 0.4153 - accuracy: 0.8556 - val_loss: 0.4255 - val_accuracy: 0.8512\n",
            "Epoch 12/30\n",
            "480/480 [==============================] - 1s 3ms/step - loss: 0.4096 - accuracy: 0.8565 - val_loss: 0.4286 - val_accuracy: 0.8468\n",
            "Epoch 13/30\n",
            "480/480 [==============================] - 2s 3ms/step - loss: 0.4067 - accuracy: 0.8579 - val_loss: 0.4199 - val_accuracy: 0.8501\n",
            "Epoch 14/30\n",
            "480/480 [==============================] - 2s 3ms/step - loss: 0.4024 - accuracy: 0.8593 - val_loss: 0.4186 - val_accuracy: 0.8519\n",
            "Epoch 15/30\n",
            "480/480 [==============================] - 2s 3ms/step - loss: 0.3985 - accuracy: 0.8599 - val_loss: 0.4100 - val_accuracy: 0.8571\n",
            "Epoch 16/30\n",
            "480/480 [==============================] - 1s 3ms/step - loss: 0.3943 - accuracy: 0.8623 - val_loss: 0.4052 - val_accuracy: 0.8583\n",
            "Epoch 17/30\n",
            "480/480 [==============================] - 1s 3ms/step - loss: 0.3905 - accuracy: 0.8625 - val_loss: 0.4113 - val_accuracy: 0.8566\n",
            "Epoch 18/30\n",
            "480/480 [==============================] - 2s 3ms/step - loss: 0.3879 - accuracy: 0.8640 - val_loss: 0.4076 - val_accuracy: 0.8572\n",
            "Epoch 19/30\n",
            "480/480 [==============================] - 2s 3ms/step - loss: 0.3848 - accuracy: 0.8642 - val_loss: 0.4023 - val_accuracy: 0.8577\n",
            "Epoch 20/30\n",
            "480/480 [==============================] - 1s 3ms/step - loss: 0.3822 - accuracy: 0.8666 - val_loss: 0.3986 - val_accuracy: 0.8590\n",
            "Epoch 21/30\n",
            "480/480 [==============================] - 1s 3ms/step - loss: 0.3785 - accuracy: 0.8668 - val_loss: 0.3987 - val_accuracy: 0.8576\n",
            "Epoch 22/30\n",
            "480/480 [==============================] - 2s 3ms/step - loss: 0.3765 - accuracy: 0.8677 - val_loss: 0.3947 - val_accuracy: 0.8608\n",
            "Epoch 23/30\n",
            "480/480 [==============================] - 1s 3ms/step - loss: 0.3734 - accuracy: 0.8686 - val_loss: 0.3920 - val_accuracy: 0.8614\n",
            "Epoch 24/30\n",
            "480/480 [==============================] - 2s 3ms/step - loss: 0.3701 - accuracy: 0.8695 - val_loss: 0.3924 - val_accuracy: 0.8622\n",
            "Epoch 25/30\n",
            "480/480 [==============================] - 2s 3ms/step - loss: 0.3680 - accuracy: 0.8717 - val_loss: 0.3875 - val_accuracy: 0.8618\n",
            "Epoch 26/30\n",
            "480/480 [==============================] - 1s 3ms/step - loss: 0.3653 - accuracy: 0.8709 - val_loss: 0.3870 - val_accuracy: 0.8612\n",
            "Epoch 27/30\n",
            "480/480 [==============================] - 2s 3ms/step - loss: 0.3636 - accuracy: 0.8718 - val_loss: 0.3867 - val_accuracy: 0.8619\n",
            "Epoch 28/30\n",
            "480/480 [==============================] - 1s 3ms/step - loss: 0.3613 - accuracy: 0.8729 - val_loss: 0.3846 - val_accuracy: 0.8652\n",
            "Epoch 29/30\n",
            "480/480 [==============================] - 2s 3ms/step - loss: 0.3596 - accuracy: 0.8737 - val_loss: 0.4024 - val_accuracy: 0.8533\n",
            "Epoch 30/30\n",
            "480/480 [==============================] - 2s 3ms/step - loss: 0.3568 - accuracy: 0.8758 - val_loss: 0.3843 - val_accuracy: 0.8626\n"
          ]
        }
      ]
    },
    {
      "cell_type": "code",
      "metadata": {
        "colab": {
          "base_uri": "https://localhost:8080/"
        },
        "id": "2IQ0WCqVFOmR",
        "outputId": "70a3e0f0-e762-4b20-ca49-81f78a047006"
      },
      "source": [
        "model_200_batch = train_with_different_batch_size(create(600), 200)"
      ],
      "execution_count": null,
      "outputs": [
        {
          "output_type": "stream",
          "name": "stdout",
          "text": [
            "Epoch 1/30\n",
            "240/240 [==============================] - 1s 4ms/step - loss: 1.0099 - accuracy: 0.6894 - val_loss: 0.7204 - val_accuracy: 0.7671\n",
            "Epoch 2/30\n",
            "240/240 [==============================] - 1s 4ms/step - loss: 0.6626 - accuracy: 0.7824 - val_loss: 0.6123 - val_accuracy: 0.7990\n",
            "Epoch 3/30\n",
            "240/240 [==============================] - 1s 3ms/step - loss: 0.5853 - accuracy: 0.8063 - val_loss: 0.5625 - val_accuracy: 0.8112\n",
            "Epoch 4/30\n",
            "240/240 [==============================] - 1s 3ms/step - loss: 0.5431 - accuracy: 0.8169 - val_loss: 0.5306 - val_accuracy: 0.8197\n",
            "Epoch 5/30\n",
            "240/240 [==============================] - 1s 4ms/step - loss: 0.5170 - accuracy: 0.8245 - val_loss: 0.5114 - val_accuracy: 0.8246\n",
            "Epoch 6/30\n",
            "240/240 [==============================] - 1s 4ms/step - loss: 0.4981 - accuracy: 0.8303 - val_loss: 0.4946 - val_accuracy: 0.8259\n",
            "Epoch 7/30\n",
            "240/240 [==============================] - 1s 4ms/step - loss: 0.4840 - accuracy: 0.8348 - val_loss: 0.4884 - val_accuracy: 0.8303\n",
            "Epoch 8/30\n",
            "240/240 [==============================] - 1s 4ms/step - loss: 0.4729 - accuracy: 0.8383 - val_loss: 0.4787 - val_accuracy: 0.8297\n",
            "Epoch 9/30\n",
            "240/240 [==============================] - 1s 4ms/step - loss: 0.4641 - accuracy: 0.8397 - val_loss: 0.4731 - val_accuracy: 0.8338\n",
            "Epoch 10/30\n",
            "240/240 [==============================] - 1s 4ms/step - loss: 0.4567 - accuracy: 0.8416 - val_loss: 0.4629 - val_accuracy: 0.8342\n",
            "Epoch 11/30\n",
            "240/240 [==============================] - 1s 4ms/step - loss: 0.4497 - accuracy: 0.8445 - val_loss: 0.4579 - val_accuracy: 0.8391\n",
            "Epoch 12/30\n",
            "240/240 [==============================] - 1s 3ms/step - loss: 0.4443 - accuracy: 0.8471 - val_loss: 0.4545 - val_accuracy: 0.8350\n",
            "Epoch 13/30\n",
            "240/240 [==============================] - 1s 4ms/step - loss: 0.4387 - accuracy: 0.8481 - val_loss: 0.4471 - val_accuracy: 0.8417\n",
            "Epoch 14/30\n",
            "240/240 [==============================] - 1s 4ms/step - loss: 0.4341 - accuracy: 0.8491 - val_loss: 0.4467 - val_accuracy: 0.8399\n",
            "Epoch 15/30\n",
            "240/240 [==============================] - 1s 3ms/step - loss: 0.4298 - accuracy: 0.8505 - val_loss: 0.4449 - val_accuracy: 0.8416\n",
            "Epoch 16/30\n",
            "240/240 [==============================] - 1s 4ms/step - loss: 0.4268 - accuracy: 0.8517 - val_loss: 0.4364 - val_accuracy: 0.8442\n",
            "Epoch 17/30\n",
            "240/240 [==============================] - 1s 3ms/step - loss: 0.4227 - accuracy: 0.8522 - val_loss: 0.4371 - val_accuracy: 0.8452\n",
            "Epoch 18/30\n",
            "240/240 [==============================] - 1s 3ms/step - loss: 0.4198 - accuracy: 0.8537 - val_loss: 0.4298 - val_accuracy: 0.8472\n",
            "Epoch 19/30\n",
            "240/240 [==============================] - 1s 3ms/step - loss: 0.4167 - accuracy: 0.8546 - val_loss: 0.4359 - val_accuracy: 0.8468\n",
            "Epoch 20/30\n",
            "240/240 [==============================] - 1s 4ms/step - loss: 0.4139 - accuracy: 0.8558 - val_loss: 0.4392 - val_accuracy: 0.8411\n",
            "Epoch 21/30\n",
            "240/240 [==============================] - 1s 4ms/step - loss: 0.4108 - accuracy: 0.8568 - val_loss: 0.4254 - val_accuracy: 0.8487\n",
            "Epoch 22/30\n",
            "240/240 [==============================] - 1s 3ms/step - loss: 0.4086 - accuracy: 0.8575 - val_loss: 0.4274 - val_accuracy: 0.8482\n",
            "Epoch 23/30\n",
            "240/240 [==============================] - 1s 4ms/step - loss: 0.4056 - accuracy: 0.8579 - val_loss: 0.4206 - val_accuracy: 0.8508\n",
            "Epoch 24/30\n",
            "240/240 [==============================] - 1s 4ms/step - loss: 0.4039 - accuracy: 0.8597 - val_loss: 0.4202 - val_accuracy: 0.8491\n",
            "Epoch 25/30\n",
            "240/240 [==============================] - 1s 4ms/step - loss: 0.4020 - accuracy: 0.8597 - val_loss: 0.4306 - val_accuracy: 0.8485\n",
            "Epoch 26/30\n",
            "240/240 [==============================] - 1s 3ms/step - loss: 0.3993 - accuracy: 0.8608 - val_loss: 0.4161 - val_accuracy: 0.8548\n",
            "Epoch 27/30\n",
            "240/240 [==============================] - 1s 4ms/step - loss: 0.3982 - accuracy: 0.8619 - val_loss: 0.4192 - val_accuracy: 0.8521\n",
            "Epoch 28/30\n",
            "240/240 [==============================] - 1s 4ms/step - loss: 0.3956 - accuracy: 0.8625 - val_loss: 0.4168 - val_accuracy: 0.8520\n",
            "Epoch 29/30\n",
            "240/240 [==============================] - 1s 3ms/step - loss: 0.3937 - accuracy: 0.8624 - val_loss: 0.4102 - val_accuracy: 0.8560\n",
            "Epoch 30/30\n",
            "240/240 [==============================] - 1s 4ms/step - loss: 0.3919 - accuracy: 0.8627 - val_loss: 0.4116 - val_accuracy: 0.8545\n"
          ]
        }
      ]
    },
    {
      "cell_type": "code",
      "metadata": {
        "colab": {
          "base_uri": "https://localhost:8080/"
        },
        "id": "k1I1flT-FOwG",
        "outputId": "f690579c-6859-4d93-ebc8-1da5bec5b5ba"
      },
      "source": [
        "model_500_batch = train_with_different_batch_size(create(600), 500)"
      ],
      "execution_count": null,
      "outputs": [
        {
          "output_type": "stream",
          "name": "stdout",
          "text": [
            "Epoch 1/30\n",
            "96/96 [==============================] - 1s 6ms/step - loss: 1.3408 - accuracy: 0.6139 - val_loss: 0.9435 - val_accuracy: 0.7085\n",
            "Epoch 2/30\n",
            "96/96 [==============================] - 0s 4ms/step - loss: 0.8507 - accuracy: 0.7261 - val_loss: 0.7718 - val_accuracy: 0.7478\n",
            "Epoch 3/30\n",
            "96/96 [==============================] - 0s 4ms/step - loss: 0.7339 - accuracy: 0.7622 - val_loss: 0.6905 - val_accuracy: 0.7747\n",
            "Epoch 4/30\n",
            "96/96 [==============================] - 0s 4ms/step - loss: 0.6710 - accuracy: 0.7824 - val_loss: 0.6432 - val_accuracy: 0.7883\n",
            "Epoch 5/30\n",
            "96/96 [==============================] - 0s 4ms/step - loss: 0.6297 - accuracy: 0.7952 - val_loss: 0.6094 - val_accuracy: 0.7983\n",
            "Epoch 6/30\n",
            "96/96 [==============================] - 0s 4ms/step - loss: 0.5993 - accuracy: 0.8034 - val_loss: 0.5858 - val_accuracy: 0.8025\n",
            "Epoch 7/30\n",
            "96/96 [==============================] - 0s 4ms/step - loss: 0.5764 - accuracy: 0.8093 - val_loss: 0.5680 - val_accuracy: 0.8085\n",
            "Epoch 8/30\n",
            "96/96 [==============================] - 0s 4ms/step - loss: 0.5579 - accuracy: 0.8145 - val_loss: 0.5516 - val_accuracy: 0.8138\n",
            "Epoch 9/30\n",
            "96/96 [==============================] - 0s 4ms/step - loss: 0.5430 - accuracy: 0.8194 - val_loss: 0.5383 - val_accuracy: 0.8192\n",
            "Epoch 10/30\n",
            "96/96 [==============================] - 0s 4ms/step - loss: 0.5307 - accuracy: 0.8231 - val_loss: 0.5279 - val_accuracy: 0.8210\n",
            "Epoch 11/30\n",
            "96/96 [==============================] - 0s 4ms/step - loss: 0.5201 - accuracy: 0.8249 - val_loss: 0.5203 - val_accuracy: 0.8217\n",
            "Epoch 12/30\n",
            "96/96 [==============================] - 0s 4ms/step - loss: 0.5110 - accuracy: 0.8271 - val_loss: 0.5121 - val_accuracy: 0.8252\n",
            "Epoch 13/30\n",
            "96/96 [==============================] - 0s 4ms/step - loss: 0.5029 - accuracy: 0.8298 - val_loss: 0.5066 - val_accuracy: 0.8259\n",
            "Epoch 14/30\n",
            "96/96 [==============================] - 0s 4ms/step - loss: 0.4963 - accuracy: 0.8316 - val_loss: 0.5000 - val_accuracy: 0.8283\n",
            "Epoch 15/30\n",
            "96/96 [==============================] - 0s 4ms/step - loss: 0.4899 - accuracy: 0.8327 - val_loss: 0.4967 - val_accuracy: 0.8289\n",
            "Epoch 16/30\n",
            "96/96 [==============================] - 0s 4ms/step - loss: 0.4845 - accuracy: 0.8352 - val_loss: 0.4879 - val_accuracy: 0.8316\n",
            "Epoch 17/30\n",
            "96/96 [==============================] - 0s 4ms/step - loss: 0.4791 - accuracy: 0.8357 - val_loss: 0.4844 - val_accuracy: 0.8326\n",
            "Epoch 18/30\n",
            "96/96 [==============================] - 0s 4ms/step - loss: 0.4749 - accuracy: 0.8378 - val_loss: 0.4800 - val_accuracy: 0.8341\n",
            "Epoch 19/30\n",
            "96/96 [==============================] - 0s 4ms/step - loss: 0.4708 - accuracy: 0.8392 - val_loss: 0.4762 - val_accuracy: 0.8342\n",
            "Epoch 20/30\n",
            "96/96 [==============================] - 0s 4ms/step - loss: 0.4668 - accuracy: 0.8396 - val_loss: 0.4724 - val_accuracy: 0.8346\n",
            "Epoch 21/30\n",
            "96/96 [==============================] - 0s 4ms/step - loss: 0.4632 - accuracy: 0.8410 - val_loss: 0.4718 - val_accuracy: 0.8361\n",
            "Epoch 22/30\n",
            "96/96 [==============================] - 0s 4ms/step - loss: 0.4593 - accuracy: 0.8423 - val_loss: 0.4669 - val_accuracy: 0.8357\n",
            "Epoch 23/30\n",
            "96/96 [==============================] - 0s 4ms/step - loss: 0.4562 - accuracy: 0.8429 - val_loss: 0.4651 - val_accuracy: 0.8371\n",
            "Epoch 24/30\n",
            "96/96 [==============================] - 0s 4ms/step - loss: 0.4534 - accuracy: 0.8439 - val_loss: 0.4633 - val_accuracy: 0.8378\n",
            "Epoch 25/30\n",
            "96/96 [==============================] - 0s 4ms/step - loss: 0.4504 - accuracy: 0.8451 - val_loss: 0.4601 - val_accuracy: 0.8396\n",
            "Epoch 26/30\n",
            "96/96 [==============================] - 0s 4ms/step - loss: 0.4480 - accuracy: 0.8459 - val_loss: 0.4576 - val_accuracy: 0.8399\n",
            "Epoch 27/30\n",
            "96/96 [==============================] - 0s 4ms/step - loss: 0.4451 - accuracy: 0.8472 - val_loss: 0.4547 - val_accuracy: 0.8419\n",
            "Epoch 28/30\n",
            "96/96 [==============================] - 0s 4ms/step - loss: 0.4428 - accuracy: 0.8475 - val_loss: 0.4534 - val_accuracy: 0.8425\n",
            "Epoch 29/30\n",
            "96/96 [==============================] - 0s 4ms/step - loss: 0.4407 - accuracy: 0.8483 - val_loss: 0.4511 - val_accuracy: 0.8403\n",
            "Epoch 30/30\n",
            "96/96 [==============================] - 0s 4ms/step - loss: 0.4388 - accuracy: 0.8489 - val_loss: 0.4491 - val_accuracy: 0.8433\n"
          ]
        }
      ]
    },
    {
      "cell_type": "code",
      "metadata": {
        "colab": {
          "base_uri": "https://localhost:8080/"
        },
        "id": "pExKqe-MIHqW",
        "outputId": "be2f02ae-bfef-44d5-b3e2-3bd57e783008"
      },
      "source": [
        "model_10_batch.evaluate(x_test, y_test, verbose=1)\n",
        "model_50_batch.evaluate(x_test, y_test, verbose=1)\n",
        "model_100_batch.evaluate(x_test, y_test, verbose=1)\n",
        "model_200_batch.evaluate(x_test, y_test, verbose=1)\n",
        "model_500_batch.evaluate(x_test, y_test, verbose=1)"
      ],
      "execution_count": null,
      "outputs": [
        {
          "output_type": "stream",
          "name": "stdout",
          "text": [
            "313/313 [==============================] - 1s 2ms/step - loss: 0.3469 - accuracy: 0.8807\n",
            "313/313 [==============================] - 1s 2ms/step - loss: 0.4077 - accuracy: 0.8504\n",
            "313/313 [==============================] - 1s 2ms/step - loss: 0.4087 - accuracy: 0.8536\n",
            "313/313 [==============================] - 1s 2ms/step - loss: 0.4363 - accuracy: 0.8456\n",
            "313/313 [==============================] - 1s 2ms/step - loss: 0.4719 - accuracy: 0.8360\n"
          ]
        },
        {
          "output_type": "execute_result",
          "data": {
            "text/plain": [
              "[0.4718668460845947, 0.8360000252723694]"
            ]
          },
          "metadata": {},
          "execution_count": 142
        }
      ]
    },
    {
      "cell_type": "markdown",
      "metadata": {
        "id": "92LUHaHIbbhw"
      },
      "source": [
        "Модель з batch_size=10 є найкращою, бо на ній найбільша кількість даних для навчання."
      ]
    }
  ]
}